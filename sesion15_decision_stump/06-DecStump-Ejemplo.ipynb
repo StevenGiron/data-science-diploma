{
 "cells": [
  {
   "cell_type": "markdown",
   "id": "1e8f9ec7",
   "metadata": {},
   "source": [
    "Importamos las librerías necesarias"
   ]
  },
  {
   "cell_type": "code",
   "execution_count": 1,
   "id": "e9bc64fe",
   "metadata": {},
   "outputs": [],
   "source": [
    "import numpy as np #operaciones matriciales y con vectores\n",
    "import pandas as pd #tratamiento de datos\n",
    "import matplotlib.pyplot as plt #gráficos\n",
    "from sklearn import tree, datasets, metrics\n",
    "#from sklearn import neighbors, datasets, metrics\n",
    "from sklearn.model_selection import train_test_split #metodo de particionamiento de datasets para evaluación\n",
    "import math"
   ]
  },
  {
   "cell_type": "markdown",
   "id": "788d806c",
   "metadata": {},
   "source": [
    "Cargamos el conjunto de datos de cancer de mama"
   ]
  },
  {
   "cell_type": "code",
   "execution_count": 2,
   "id": "a370ad39",
   "metadata": {},
   "outputs": [
    {
     "data": {
      "text/plain": [
       "array([[1.799e+01, 1.038e+01, 1.228e+02, 1.001e+03, 1.184e-01, 2.776e-01,\n",
       "        3.001e-01, 1.471e-01, 2.419e-01, 7.871e-02, 1.095e+00, 9.053e-01,\n",
       "        8.589e+00, 1.534e+02, 6.399e-03, 4.904e-02, 5.373e-02, 1.587e-02,\n",
       "        3.003e-02, 6.193e-03, 2.538e+01, 1.733e+01, 1.846e+02, 2.019e+03,\n",
       "        1.622e-01, 6.656e-01, 7.119e-01, 2.654e-01, 4.601e-01, 1.189e-01,\n",
       "        0.000e+00],\n",
       "       [2.057e+01, 1.777e+01, 1.329e+02, 1.326e+03, 8.474e-02, 7.864e-02,\n",
       "        8.690e-02, 7.017e-02, 1.812e-01, 5.667e-02, 5.435e-01, 7.339e-01,\n",
       "        3.398e+00, 7.408e+01, 5.225e-03, 1.308e-02, 1.860e-02, 1.340e-02,\n",
       "        1.389e-02, 3.532e-03, 2.499e+01, 2.341e+01, 1.588e+02, 1.956e+03,\n",
       "        1.238e-01, 1.866e-01, 2.416e-01, 1.860e-01, 2.750e-01, 8.902e-02,\n",
       "        0.000e+00],\n",
       "       [1.969e+01, 2.125e+01, 1.300e+02, 1.203e+03, 1.096e-01, 1.599e-01,\n",
       "        1.974e-01, 1.279e-01, 2.069e-01, 5.999e-02, 7.456e-01, 7.869e-01,\n",
       "        4.585e+00, 9.403e+01, 6.150e-03, 4.006e-02, 3.832e-02, 2.058e-02,\n",
       "        2.250e-02, 4.571e-03, 2.357e+01, 2.553e+01, 1.525e+02, 1.709e+03,\n",
       "        1.444e-01, 4.245e-01, 4.504e-01, 2.430e-01, 3.613e-01, 8.758e-02,\n",
       "        0.000e+00],\n",
       "       [1.142e+01, 2.038e+01, 7.758e+01, 3.861e+02, 1.425e-01, 2.839e-01,\n",
       "        2.414e-01, 1.052e-01, 2.597e-01, 9.744e-02, 4.956e-01, 1.156e+00,\n",
       "        3.445e+00, 2.723e+01, 9.110e-03, 7.458e-02, 5.661e-02, 1.867e-02,\n",
       "        5.963e-02, 9.208e-03, 1.491e+01, 2.650e+01, 9.887e+01, 5.677e+02,\n",
       "        2.098e-01, 8.663e-01, 6.869e-01, 2.575e-01, 6.638e-01, 1.730e-01,\n",
       "        0.000e+00],\n",
       "       [2.029e+01, 1.434e+01, 1.351e+02, 1.297e+03, 1.003e-01, 1.328e-01,\n",
       "        1.980e-01, 1.043e-01, 1.809e-01, 5.883e-02, 7.572e-01, 7.813e-01,\n",
       "        5.438e+00, 9.444e+01, 1.149e-02, 2.461e-02, 5.688e-02, 1.885e-02,\n",
       "        1.756e-02, 5.115e-03, 2.254e+01, 1.667e+01, 1.522e+02, 1.575e+03,\n",
       "        1.374e-01, 2.050e-01, 4.000e-01, 1.625e-01, 2.364e-01, 7.678e-02,\n",
       "        0.000e+00]])"
      ]
     },
     "execution_count": 2,
     "metadata": {},
     "output_type": "execute_result"
    }
   ],
   "source": [
    "cancer = datasets.load_breast_cancer()\n",
    "X = cancer.data\n",
    "y = cancer.target\n",
    "data = np.concatenate((X, np.expand_dims(y, axis=1)), axis = 1)\n",
    "data[0:5]"
   ]
  },
  {
   "cell_type": "markdown",
   "id": "f96011eb",
   "metadata": {},
   "source": [
    "Realizamos la clasificación de si el tumor es benigno o maligno a partir de un decision stump. Es decir, un árbol de decisión de un sólo nivel."
   ]
  },
  {
   "cell_type": "code",
   "execution_count": 31,
   "id": "cd894081",
   "metadata": {},
   "outputs": [],
   "source": [
    "np.random.seed(1234)\n",
    "decStump = tree.DecisionTreeClassifier(criterion='entropy', max_depth=1)"
   ]
  },
  {
   "cell_type": "markdown",
   "id": "9e0cf05b",
   "metadata": {},
   "source": [
    "Utilizamos un 70% de los datos para entrenamiento y un 30% para la prueba"
   ]
  },
  {
   "cell_type": "code",
   "execution_count": 32,
   "id": "29352c47",
   "metadata": {},
   "outputs": [],
   "source": [
    "np.random.seed(1234)\n",
    "X_train, X_test, y_train, y_test = train_test_split(X, y, test_size = 0.3)"
   ]
  },
  {
   "cell_type": "markdown",
   "id": "c2d6f47d",
   "metadata": {},
   "source": [
    "Entrenamos el decision stump"
   ]
  },
  {
   "cell_type": "code",
   "execution_count": 33,
   "id": "d228a4af",
   "metadata": {},
   "outputs": [
    {
     "data": {
      "text/plain": [
       "DecisionTreeClassifier(criterion='entropy', max_depth=1)"
      ]
     },
     "execution_count": 33,
     "metadata": {},
     "output_type": "execute_result"
    }
   ],
   "source": [
    "decStump.fit(X_train,y_train)"
   ]
  },
  {
   "cell_type": "markdown",
   "id": "9576b303",
   "metadata": {},
   "source": [
    "Realizamos las predicciones a partir de nuestro decision stump con los datos de entrenamiento"
   ]
  },
  {
   "cell_type": "code",
   "execution_count": 34,
   "id": "b364192b",
   "metadata": {},
   "outputs": [],
   "source": [
    "y_pred = decStump.predict(X_train)"
   ]
  },
  {
   "cell_type": "markdown",
   "id": "0f3a0574",
   "metadata": {},
   "source": [
    "Calculamos la matriz de confusión para el modelo evaluado con los datos de entrenamiento"
   ]
  },
  {
   "cell_type": "code",
   "execution_count": 36,
   "id": "75b09faa",
   "metadata": {},
   "outputs": [
    {
     "data": {
      "image/png": "[encoded data removed]",
      "text/plain": [
       "<Figure size 432x288 with 2 Axes>"
      ]
     },
     "metadata": {
      "needs_background": "light"
     },
     "output_type": "display_data"
    }
   ],
   "source": [
    "cm= metrics.confusion_matrix(y_train, y_pred)\n",
    "metrics.plot_confusion_matrix(decStump,X_train,y_train,cmap=plt.cm.Greys)\n",
    "plt.title(\"Matriz de confusion para Decision Stump (entrenamiento)\")\n",
    "tick_marks = np.arange(2)\n",
    "plt.xticks(tick_marks, cancer.target_names)\n",
    "plt.yticks(tick_marks, cancer.target_names)\n",
    "plt.show()"
   ]
  },
  {
   "cell_type": "markdown",
   "id": "d1abf0ed",
   "metadata": {},
   "source": [
    "Calculamos la exactitud y el kappa utilizando los datos de entrenamiento"
   ]
  },
  {
   "cell_type": "code",
   "execution_count": 40,
   "id": "8b1ef880",
   "metadata": {},
   "outputs": [
    {
     "name": "stdout",
     "output_type": "stream",
     "text": [
      "[[136  10]\n",
      " [ 17 235]]\n",
      "Exactitud:  0.9321608040201005\n",
      "Kappa    :  0.8554207141511718\n"
     ]
    }
   ],
   "source": [
    "print(cm)\n",
    "print(\"Exactitud: \", metrics.accuracy_score(y_train, y_pred))\n",
    "print(\"Kappa    : \", metrics.cohen_kappa_score(y_train, y_pred))"
   ]
  },
  {
   "cell_type": "markdown",
   "id": "e58d7c6e",
   "metadata": {},
   "source": [
    "Realizamos las predicciones a partir de nuestro decision stump con los datos de prueba"
   ]
  },
  {
   "cell_type": "code",
   "execution_count": 41,
   "id": "e166a7ca",
   "metadata": {},
   "outputs": [],
   "source": [
    "y_pred = decStump.predict(X_test)"
   ]
  },
  {
   "cell_type": "markdown",
   "id": "b659a774",
   "metadata": {},
   "source": [
    "Calculamos la matriz de confusión para el modelo evaluado con los datos de prueba"
   ]
  },
  {
   "cell_type": "code",
   "execution_count": 42,
   "id": "73f9e212",
   "metadata": {},
   "outputs": [
    {
     "data": {
      "image/png": "[encoded data removed]",
      "text/plain": [
       "<Figure size 432x288 with 2 Axes>"
      ]
     },
     "metadata": {
      "needs_background": "light"
     },
     "output_type": "display_data"
    }
   ],
   "source": [
    "cm= metrics.confusion_matrix(y_test, y_pred)\n",
    "metrics.plot_confusion_matrix(decStump,X_test,y_test,cmap=plt.cm.Greys)\n",
    "plt.title(\"Matriz de confusion para Decision Stump\")\n",
    "tick_marks = np.arange(2)\n",
    "plt.xticks(tick_marks, cancer.target_names)\n",
    "plt.yticks(tick_marks, cancer.target_names)\n",
    "plt.show()"
   ]
  },
  {
   "cell_type": "markdown",
   "id": "d5236741",
   "metadata": {},
   "source": [
    "Calculamos la exactitud y el kappa utilizando los datos de prueba"
   ]
  },
  {
   "cell_type": "code",
   "execution_count": 43,
   "id": "958d0cef",
   "metadata": {},
   "outputs": [
    {
     "name": "stdout",
     "output_type": "stream",
     "text": [
      "[[56 10]\n",
      " [11 94]]\n",
      "Exactitud:  0.8771929824561403\n",
      "Kappa    :  0.741636088927261\n"
     ]
    }
   ],
   "source": [
    "print(cm)\n",
    "print(\"Exactitud: \", metrics.accuracy_score(y_test, y_pred))\n",
    "print(\"Kappa    : \", metrics.cohen_kappa_score(y_test, y_pred))"
   ]
  },
  {
   "cell_type": "markdown",
   "id": "00853a03",
   "metadata": {},
   "source": [
    "Graficamos nuestro decision stump"
   ]
  },
  {
   "cell_type": "code",
   "execution_count": 45,
   "id": "fb40584b",
   "metadata": {},
   "outputs": [
    {
     "data": {
      "text/plain": [
       "[Text(167.4, 163.07999999999998, 'mean concave points <= 0.051\\nentropy = 0.948\\nsamples = 398\\nvalue = [146, 252]\\nclass = benign'),\n",
       " Text(83.7, 54.360000000000014, 'entropy = 0.246\\nsamples = 245\\nvalue = [10, 235]\\nclass = benign'),\n",
       " Text(251.10000000000002, 54.360000000000014, 'entropy = 0.503\\nsamples = 153\\nvalue = [136, 17]\\nclass = malignant')]"
      ]
     },
     "execution_count": 45,
     "metadata": {},
     "output_type": "execute_result"
    },
    {
     "data": {
      "image/png": "[encoded data removed]",
      "text/plain": [
       "<Figure size 432x288 with 1 Axes>"
      ]
     },
     "metadata": {
      "needs_background": "light"
     },
     "output_type": "display_data"
    }
   ],
   "source": [
    "tree.plot_tree(decStump, feature_names=cancer.feature_names, class_names=cancer.target_names, filled=True)"
   ]
  },
  {
   "cell_type": "code",
   "execution_count": 46,
   "id": "01a7fb6f",
   "metadata": {},
   "outputs": [
    {
     "data": {
      "text/plain": [
       "array([0., 0., 0., 0., 0., 0., 0., 1., 0., 0., 0., 0., 0., 0., 0., 0., 0.,\n",
       "       0., 0., 0., 0., 0., 0., 0., 0., 0., 0., 0., 0., 0.])"
      ]
     },
     "execution_count": 46,
     "metadata": {},
     "output_type": "execute_result"
    }
   ],
   "source": []
  },
  {
   "cell_type": "code",
   "execution_count": null,
   "id": "5e4226e5",
   "metadata": {},
   "outputs": [],
   "source": []
  }
 ],
 "metadata": {
  "kernelspec": {
   "display_name": "Python 3 (ipykernel)",
   "language": "python",
   "name": "python3"
  },
  "language_info": {
   "codemirror_mode": {
    "name": "ipython",
    "version": 3
   },
   "file_extension": ".py",
   "mimetype": "text/x-python",
   "name": "python",
   "nbconvert_exporter": "python",
   "pygments_lexer": "ipython3",
   "version": "3.9.12"
  }
 },
 "nbformat": 4,
 "nbformat_minor": 5
}
