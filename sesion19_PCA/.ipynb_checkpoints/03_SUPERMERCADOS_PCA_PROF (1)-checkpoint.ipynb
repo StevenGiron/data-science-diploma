{
 "cells": [
  {
   "cell_type": "markdown",
   "metadata": {
    "id": "np2IauMtdthP"
   },
   "source": [
    "# PCA con los datos de las compras de supermercados"
   ]
  },
  {
   "cell_type": "markdown",
   "metadata": {
    "id": "0kp8WDahdthS"
   },
   "source": [
    "Vamos a realizar operaciones de **clustering** (segmentación) de datos.\n",
    "La idea es encontrar una estructura dentro de un dataset donde originalmente no la había.\n",
    "No se tiene un objetivo de predicción (se trata **aprendizaje no supervisado**), sino de uno de entendimiento de los datos a través del particionamiento del dataset en grupos de instancias."
   ]
  },
  {
   "cell_type": "code",
   "execution_count": 2,
   "metadata": {
    "id": "CoK5CHP0dthT"
   },
   "outputs": [],
   "source": [
    "import matplotlib.pyplot as plt\n",
    "import seaborn as sns\n",
    "import numpy as np\n",
    "import pandas as pd\n",
    "import math\n",
    "from collections import Counter\n",
    "\n",
    "\n",
    "from sklearn.cluster import KMeans\n",
    "from sklearn.metrics import confusion_matrix, accuracy_score, silhouette_samples, silhouette_score, calinski_harabasz_score\n",
    "from sklearn import preprocessing\n",
    "from sklearn.decomposition import PCA"
   ]
  },
  {
   "cell_type": "markdown",
   "metadata": {
    "id": "EW0vm6NvdthU"
   },
   "source": [
    "Cargamos los datos"
   ]
  },
  {
   "cell_type": "code",
   "execution_count": 5,
   "metadata": {
    "id": "Za0EAJ2bdthU"
   },
   "outputs": [
    {
     "name": "stdout",
     "output_type": "stream",
     "text": [
      "(440, 8)\n"
     ]
    },
    {
     "data": {
      "text/html": [
       "<div>\n",
       "<style scoped>\n",
       "    .dataframe tbody tr th:only-of-type {\n",
       "        vertical-align: middle;\n",
       "    }\n",
       "\n",
       "    .dataframe tbody tr th {\n",
       "        vertical-align: top;\n",
       "    }\n",
       "\n",
       "    .dataframe thead th {\n",
       "        text-align: right;\n",
       "    }\n",
       "</style>\n",
       "<table border=\"1\" class=\"dataframe\">\n",
       "  <thead>\n",
       "    <tr style=\"text-align: right;\">\n",
       "      <th></th>\n",
       "      <th>Channel</th>\n",
       "      <th>Region</th>\n",
       "      <th>Fresh</th>\n",
       "      <th>Milk</th>\n",
       "      <th>Grocery</th>\n",
       "      <th>Frozen</th>\n",
       "      <th>Detergents_Paper</th>\n",
       "      <th>Delicassen</th>\n",
       "    </tr>\n",
       "  </thead>\n",
       "  <tbody>\n",
       "    <tr>\n",
       "      <th>0</th>\n",
       "      <td>2</td>\n",
       "      <td>3</td>\n",
       "      <td>12669</td>\n",
       "      <td>9656</td>\n",
       "      <td>7561</td>\n",
       "      <td>214</td>\n",
       "      <td>2674</td>\n",
       "      <td>1338</td>\n",
       "    </tr>\n",
       "    <tr>\n",
       "      <th>1</th>\n",
       "      <td>2</td>\n",
       "      <td>3</td>\n",
       "      <td>7057</td>\n",
       "      <td>9810</td>\n",
       "      <td>9568</td>\n",
       "      <td>1762</td>\n",
       "      <td>3293</td>\n",
       "      <td>1776</td>\n",
       "    </tr>\n",
       "    <tr>\n",
       "      <th>2</th>\n",
       "      <td>2</td>\n",
       "      <td>3</td>\n",
       "      <td>6353</td>\n",
       "      <td>8808</td>\n",
       "      <td>7684</td>\n",
       "      <td>2405</td>\n",
       "      <td>3516</td>\n",
       "      <td>7844</td>\n",
       "    </tr>\n",
       "    <tr>\n",
       "      <th>3</th>\n",
       "      <td>1</td>\n",
       "      <td>3</td>\n",
       "      <td>13265</td>\n",
       "      <td>1196</td>\n",
       "      <td>4221</td>\n",
       "      <td>6404</td>\n",
       "      <td>507</td>\n",
       "      <td>1788</td>\n",
       "    </tr>\n",
       "    <tr>\n",
       "      <th>4</th>\n",
       "      <td>2</td>\n",
       "      <td>3</td>\n",
       "      <td>22615</td>\n",
       "      <td>5410</td>\n",
       "      <td>7198</td>\n",
       "      <td>3915</td>\n",
       "      <td>1777</td>\n",
       "      <td>5185</td>\n",
       "    </tr>\n",
       "  </tbody>\n",
       "</table>\n",
       "</div>"
      ],
      "text/plain": [
       "   Channel  Region  Fresh  Milk  Grocery  Frozen  Detergents_Paper  Delicassen\n",
       "0        2       3  12669  9656     7561     214              2674        1338\n",
       "1        2       3   7057  9810     9568    1762              3293        1776\n",
       "2        2       3   6353  8808     7684    2405              3516        7844\n",
       "3        1       3  13265  1196     4221    6404               507        1788\n",
       "4        2       3  22615  5410     7198    3915              1777        5185"
      ]
     },
     "execution_count": 5,
     "metadata": {},
     "output_type": "execute_result"
    }
   ],
   "source": [
    "data = pd.read_csv('ComprasClientes.csv', na_values=\".\")\n",
    "print(data.shape)\n",
    "data.head(5)"
   ]
  },
  {
   "cell_type": "code",
   "execution_count": 7,
   "metadata": {},
   "outputs": [
    {
     "name": "stdout",
     "output_type": "stream",
     "text": [
      "<class 'pandas.core.frame.DataFrame'>\n",
      "RangeIndex: 440 entries, 0 to 439\n",
      "Data columns (total 8 columns):\n",
      " #   Column            Non-Null Count  Dtype\n",
      "---  ------            --------------  -----\n",
      " 0   Channel           440 non-null    int64\n",
      " 1   Region            440 non-null    int64\n",
      " 2   Fresh             440 non-null    int64\n",
      " 3   Milk              440 non-null    int64\n",
      " 4   Grocery           440 non-null    int64\n",
      " 5   Frozen            440 non-null    int64\n",
      " 6   Detergents_Paper  440 non-null    int64\n",
      " 7   Delicassen        440 non-null    int64\n",
      "dtypes: int64(8)\n",
      "memory usage: 27.6 KB\n"
     ]
    }
   ],
   "source": [
    "data.info()"
   ]
  },
  {
   "cell_type": "markdown",
   "metadata": {
    "id": "QwzuQCgedthV"
   },
   "source": [
    "## Limpieza del conjunto de datos"
   ]
  },
  {
   "cell_type": "markdown",
   "metadata": {
    "id": "VSaaZhjSdthV"
   },
   "source": [
    "1. Las variables Channel y Region tienen tipo int64, cuando en realidad codifican categorías de canales y de regiones. Es necesario cambiar sus tipos.\n",
    "1. Tenemos en todas las variables de consumo valores anormalmente grandes que pueden considerarse excepciones en el mejor de los casos (anomalías o errores de captura en el peor de los casos). Hay que identificar los registros en cuestión y evaluar la posibilidad de descartarlos pues pueden influenciar negativamente muchos de los modelos que se pueden aprender a partir de los datos.\n",
    "1. Las escalas de las variables que denotan los montos consumidos de cada tipo de productos son muy disparejas. Es necesario normalizar los datos ya que de no hacerlo se otorgaría una importancia demasiado desmedida a variables como Fresh casi que ignorando variables como Delicatessen."
   ]
  },
  {
   "cell_type": "markdown",
   "metadata": {
    "id": "tKXOcajhdthX"
   },
   "source": [
    "Arreglamos primero los tipos de datos incorrectos:"
   ]
  },
  {
   "cell_type": "code",
   "execution_count": 8,
   "metadata": {
    "id": "qzdg3d40dthX"
   },
   "outputs": [
    {
     "name": "stdout",
     "output_type": "stream",
     "text": [
      "<class 'pandas.core.frame.DataFrame'>\n",
      "RangeIndex: 440 entries, 0 to 439\n",
      "Data columns (total 8 columns):\n",
      " #   Column            Non-Null Count  Dtype \n",
      "---  ------            --------------  ----- \n",
      " 0   Channel           440 non-null    object\n",
      " 1   Region            440 non-null    object\n",
      " 2   Fresh             440 non-null    int64 \n",
      " 3   Milk              440 non-null    int64 \n",
      " 4   Grocery           440 non-null    int64 \n",
      " 5   Frozen            440 non-null    int64 \n",
      " 6   Detergents_Paper  440 non-null    int64 \n",
      " 7   Delicassen        440 non-null    int64 \n",
      "dtypes: int64(6), object(2)\n",
      "memory usage: 27.6+ KB\n"
     ]
    }
   ],
   "source": [
    "data.Channel = data.Channel.astype(str)\n",
    "data.Region = data.Region.astype(str)\n",
    "data.info()"
   ]
  },
  {
   "cell_type": "markdown",
   "metadata": {
    "id": "3vVMvqzfdthY"
   },
   "source": [
    "Vemos que hay valores muy importantes en todas las variables. Si contamos los puntos individuales más elevados podemos identificar 6 o menos puntos que sobrepasan la mayoría de los demás.\n",
    "Puede que algunos de los puntos excepcionales en las diferentes variables correspondan a los mismos individuos. Vamos a identificar los top 6 de valores mas importantes en cada tipo de producto y no los vamos a considerar en los análisis siguientes."
   ]
  },
  {
   "cell_type": "code",
   "execution_count": 9,
   "metadata": {
    "id": "7bNAfH2gdthY"
   },
   "outputs": [
    {
     "name": "stdout",
     "output_type": "stream",
     "text": [
      "Excepciones de Fresh:  [ 39 103 125 181 258 284]\n",
      "Excepciones de Milk:  [ 23  47  61  85  86 183]\n",
      "Excepciones de Grocery:  [ 47  61  65  85 211 333]\n",
      "Excepciones de Frozen:  [ 93 103 183 196 325 413]\n",
      "Excepciones de Detergents_Paper:  [ 47  61  65  85  86 333]\n",
      "Excepciones de Delicassen:  [  2  23  71  87 181 183]\n"
     ]
    },
    {
     "data": {
      "text/plain": [
       "array([  2,  23,  39,  47,  61,  65,  71,  85,  86,  87,  93, 103, 125,\n",
       "       181, 183, 196, 211, 258, 284, 325, 333, 413], dtype=int64)"
      ]
     },
     "execution_count": 9,
     "metadata": {},
     "output_type": "execute_result"
    }
   ],
   "source": [
    "temp = data.sort_values(['Fresh'], ascending=False)\n",
    "print(\"Excepciones de Fresh: \", np.sort(temp[0:6].index.to_numpy()))\n",
    "indicesAQuitar = temp[0:6].index.to_numpy()\n",
    "\n",
    "temp = data.sort_values(['Milk'], ascending=False)\n",
    "print(\"Excepciones de Milk: \", np.sort(temp[0:6].index.to_numpy()))\n",
    "indicesAQuitar = np.union1d(indicesAQuitar, temp[0:6].index.to_numpy())\n",
    "\n",
    "temp = data.sort_values(['Grocery'], ascending=False)\n",
    "print(\"Excepciones de Grocery: \", np.sort(temp[0:6].index.to_numpy()))\n",
    "indicesAQuitar = np.union1d(indicesAQuitar, temp[0:6].index.to_numpy())\n",
    "\n",
    "temp = data.sort_values(['Frozen'], ascending=False)\n",
    "print(\"Excepciones de Frozen: \", np.sort(temp[0:6].index.to_numpy()))\n",
    "indicesAQuitar = np.union1d(indicesAQuitar, temp[0:6].index.to_numpy())\n",
    "\n",
    "temp = data.sort_values(['Detergents_Paper'], ascending=False)\n",
    "print(\"Excepciones de Detergents_Paper: \", np.sort(temp[0:6].index.to_numpy()))\n",
    "indicesAQuitar = np.union1d(indicesAQuitar, temp[0:6].index.to_numpy())\n",
    "\n",
    "temp = data.sort_values(['Delicassen'], ascending=False)\n",
    "print(\"Excepciones de Delicassen: \", np.sort(temp[0:6].index.to_numpy()))\n",
    "indicesAQuitar = np.union1d(indicesAQuitar, temp[0:6].index.to_numpy())\n",
    "\n",
    "indicesAQuitar"
   ]
  },
  {
   "cell_type": "markdown",
   "metadata": {
    "id": "cXfWwIEAdthZ"
   },
   "source": [
    "Tenemos 22 registros identificados como excepciones. Vemos que algunos tienen valores excepcionales según diferentes tipos de consumo (23, 47, 61, 65, 85, ...)"
   ]
  },
  {
   "cell_type": "code",
   "execution_count": 10,
   "metadata": {
    "id": "UppwiYbndthZ"
   },
   "outputs": [
    {
     "data": {
      "text/plain": [
       "(440, 8)"
      ]
     },
     "execution_count": 10,
     "metadata": {},
     "output_type": "execute_result"
    }
   ],
   "source": [
    "data.shape"
   ]
  },
  {
   "cell_type": "code",
   "execution_count": 12,
   "metadata": {
    "id": "eFqsPzdndthZ"
   },
   "outputs": [
    {
     "data": {
      "text/plain": [
       "(418, 8)"
      ]
     },
     "execution_count": 12,
     "metadata": {},
     "output_type": "execute_result"
    }
   ],
   "source": [
    "dataDepurado = data.loc[~data.index.isin(indicesAQuitar)]\n",
    "dataDepurado.shape"
   ]
  },
  {
   "cell_type": "markdown",
   "metadata": {
    "id": "orbanp6-dthZ"
   },
   "source": [
    "Vamos ahora a normalizar los datos para que todas las variables tengan la misma importancia. Solo vamos a considerar los datos numéricos, por lo que no incluimos las variables Channel y Region."
   ]
  },
  {
   "cell_type": "code",
   "execution_count": 16,
   "metadata": {
    "id": "MPBW5bF2dtha"
   },
   "outputs": [],
   "source": [
    "dataStd = pd.DataFrame(preprocessing.scale(dataDepurado.iloc[:,2:]))\n",
    "dataStd.columns=dataDepurado.columns[2:]"
   ]
  },
  {
   "cell_type": "code",
   "execution_count": 17,
   "metadata": {
    "id": "4JzwmU8Ddtha"
   },
   "outputs": [
    {
     "data": {
      "text/plain": [
       "Fresh               1.540501e-17\n",
       "Milk               -6.188564e-17\n",
       "Grocery             3.612209e-17\n",
       "Frozen             -3.665330e-17\n",
       "Detergents_Paper    9.774212e-17\n",
       "Delicassen          4.940227e-17\n",
       "dtype: float64"
      ]
     },
     "execution_count": 17,
     "metadata": {},
     "output_type": "execute_result"
    }
   ],
   "source": [
    "dataStd.mean(axis=0)"
   ]
  },
  {
   "cell_type": "code",
   "execution_count": 18,
   "metadata": {
    "id": "uBbcV4sTdtha"
   },
   "outputs": [
    {
     "data": {
      "text/plain": [
       "Fresh               1.001198\n",
       "Milk                1.001198\n",
       "Grocery             1.001198\n",
       "Frozen              1.001198\n",
       "Detergents_Paper    1.001198\n",
       "Delicassen          1.001198\n",
       "dtype: float64"
      ]
     },
     "execution_count": 18,
     "metadata": {},
     "output_type": "execute_result"
    }
   ],
   "source": [
    "dataStd.std(axis=0)"
   ]
  },
  {
   "cell_type": "markdown",
   "metadata": {
    "id": "klsPkBQ8dtha"
   },
   "source": [
    "#  Reducción de dimensionalidad con PCA"
   ]
  },
  {
   "cell_type": "markdown",
   "metadata": {
    "id": "bzquuaSndtha"
   },
   "source": [
    "Vamos a buscar una mejor representación de los datos que nos permita conservar la mayor cantidad de información a través de la transformación de las 6 variables originales en componentes principales."
   ]
  },
  {
   "cell_type": "code",
   "execution_count": 20,
   "metadata": {},
   "outputs": [
    {
     "data": {
      "text/html": [
       "<div>\n",
       "<style scoped>\n",
       "    .dataframe tbody tr th:only-of-type {\n",
       "        vertical-align: middle;\n",
       "    }\n",
       "\n",
       "    .dataframe tbody tr th {\n",
       "        vertical-align: top;\n",
       "    }\n",
       "\n",
       "    .dataframe thead th {\n",
       "        text-align: right;\n",
       "    }\n",
       "</style>\n",
       "<table border=\"1\" class=\"dataframe\">\n",
       "  <thead>\n",
       "    <tr style=\"text-align: right;\">\n",
       "      <th></th>\n",
       "      <th>Fresh</th>\n",
       "      <th>Milk</th>\n",
       "      <th>Grocery</th>\n",
       "      <th>Frozen</th>\n",
       "      <th>Detergents_Paper</th>\n",
       "      <th>Delicassen</th>\n",
       "    </tr>\n",
       "  </thead>\n",
       "  <tbody>\n",
       "    <tr>\n",
       "      <th>0</th>\n",
       "      <td>0.189650</td>\n",
       "      <td>0.935012</td>\n",
       "      <td>0.073249</td>\n",
       "      <td>-0.805601</td>\n",
       "      <td>0.047187</td>\n",
       "      <td>0.083000</td>\n",
       "    </tr>\n",
       "    <tr>\n",
       "      <th>1</th>\n",
       "      <td>-0.371959</td>\n",
       "      <td>0.966262</td>\n",
       "      <td>0.364676</td>\n",
       "      <td>-0.273463</td>\n",
       "      <td>0.223754</td>\n",
       "      <td>0.448833</td>\n",
       "    </tr>\n",
       "    <tr>\n",
       "      <th>2</th>\n",
       "      <td>0.249293</td>\n",
       "      <td>-0.781752</td>\n",
       "      <td>-0.411737</td>\n",
       "      <td>1.322266</td>\n",
       "      <td>-0.570941</td>\n",
       "      <td>0.458856</td>\n",
       "    </tr>\n",
       "    <tr>\n",
       "      <th>3</th>\n",
       "      <td>1.184974</td>\n",
       "      <td>0.073383</td>\n",
       "      <td>0.020539</td>\n",
       "      <td>0.466650</td>\n",
       "      <td>-0.208678</td>\n",
       "      <td>3.296150</td>\n",
       "    </tr>\n",
       "    <tr>\n",
       "      <th>4</th>\n",
       "      <td>-0.136187</td>\n",
       "      <td>0.651522</td>\n",
       "      <td>-0.280326</td>\n",
       "      <td>-0.650222</td>\n",
       "      <td>-0.203544</td>\n",
       "      <td>0.177382</td>\n",
       "    </tr>\n",
       "    <tr>\n",
       "      <th>...</th>\n",
       "      <td>...</td>\n",
       "      <td>...</td>\n",
       "      <td>...</td>\n",
       "      <td>...</td>\n",
       "      <td>...</td>\n",
       "      <td>...</td>\n",
       "    </tr>\n",
       "    <tr>\n",
       "      <th>413</th>\n",
       "      <td>1.894290</td>\n",
       "      <td>1.421022</td>\n",
       "      <td>1.302558</td>\n",
       "      <td>3.636106</td>\n",
       "      <td>-0.663645</td>\n",
       "      <td>0.806314</td>\n",
       "    </tr>\n",
       "    <tr>\n",
       "      <th>414</th>\n",
       "      <td>2.847484</td>\n",
       "      <td>-0.734064</td>\n",
       "      <td>-0.913712</td>\n",
       "      <td>0.671186</td>\n",
       "      <td>-0.689032</td>\n",
       "      <td>0.924917</td>\n",
       "    </tr>\n",
       "    <tr>\n",
       "      <th>415</th>\n",
       "      <td>0.375986</td>\n",
       "      <td>2.118483</td>\n",
       "      <td>3.366797</td>\n",
       "      <td>-0.728943</td>\n",
       "      <td>3.517772</td>\n",
       "      <td>0.524839</td>\n",
       "    </tr>\n",
       "    <tr>\n",
       "      <th>416</th>\n",
       "      <td>-0.048423</td>\n",
       "      <td>-0.622454</td>\n",
       "      <td>-0.700551</td>\n",
       "      <td>-0.522344</td>\n",
       "      <td>-0.667639</td>\n",
       "      <td>0.740330</td>\n",
       "    </tr>\n",
       "    <tr>\n",
       "      <th>417</th>\n",
       "      <td>-0.799270</td>\n",
       "      <td>-0.679883</td>\n",
       "      <td>-0.660184</td>\n",
       "      <td>-0.856821</td>\n",
       "      <td>-0.579498</td>\n",
       "      <td>-0.991112</td>\n",
       "    </tr>\n",
       "  </tbody>\n",
       "</table>\n",
       "<p>418 rows × 6 columns</p>\n",
       "</div>"
      ],
      "text/plain": [
       "        Fresh      Milk   Grocery    Frozen  Detergents_Paper  Delicassen\n",
       "0    0.189650  0.935012  0.073249 -0.805601          0.047187    0.083000\n",
       "1   -0.371959  0.966262  0.364676 -0.273463          0.223754    0.448833\n",
       "2    0.249293 -0.781752 -0.411737  1.322266         -0.570941    0.458856\n",
       "3    1.184974  0.073383  0.020539  0.466650         -0.208678    3.296150\n",
       "4   -0.136187  0.651522 -0.280326 -0.650222         -0.203544    0.177382\n",
       "..        ...       ...       ...       ...               ...         ...\n",
       "413  1.894290  1.421022  1.302558  3.636106         -0.663645    0.806314\n",
       "414  2.847484 -0.734064 -0.913712  0.671186         -0.689032    0.924917\n",
       "415  0.375986  2.118483  3.366797 -0.728943          3.517772    0.524839\n",
       "416 -0.048423 -0.622454 -0.700551 -0.522344         -0.667639    0.740330\n",
       "417 -0.799270 -0.679883 -0.660184 -0.856821         -0.579498   -0.991112\n",
       "\n",
       "[418 rows x 6 columns]"
      ]
     },
     "execution_count": 20,
     "metadata": {},
     "output_type": "execute_result"
    }
   ],
   "source": []
  },
  {
   "cell_type": "code",
   "execution_count": null,
   "metadata": {
    "id": "zwJA1bIsdtha"
   },
   "outputs": [],
   "source": [
    "pca = PCA()\n",
    "pca.fit(dataStd.iloc[:, 0:6])"
   ]
  },
  {
   "cell_type": "markdown",
   "metadata": {
    "id": "igUiwwhgdthb"
   },
   "source": [
    "Una vez ajustado el objeto PCA a un dataset, este permite acceder a diferentes aspectos resultantes de la transformación:\n",
    "- components_: los ejes de los componentes principales en función de las variables originales. Como teníamos 6 variables, vamos a tener 6 PCs, cada uno con las cargas (*loadings*) correspondientes a cada variable original."
   ]
  },
  {
   "cell_type": "code",
   "execution_count": null,
   "metadata": {
    "id": "cjU3k1midthb"
   },
   "outputs": [],
   "source": [
    "pca.components_"
   ]
  },
  {
   "cell_type": "markdown",
   "metadata": {
    "id": "lPkSO9Pmdthb"
   },
   "source": [
    "- explained_variance_: la varianza explicada por cada eje en las unidades originales"
   ]
  },
  {
   "cell_type": "code",
   "execution_count": null,
   "metadata": {
    "id": "bPFcxoETdthb"
   },
   "outputs": [],
   "source": [
    "pca.explained_variance_"
   ]
  },
  {
   "cell_type": "markdown",
   "metadata": {
    "id": "kZK5j5q9dthb"
   },
   "source": [
    "- explained_variance_ratio_: la proporción de la varianza explicada por cada eje, en porcentaje (la suma da 100%)."
   ]
  },
  {
   "cell_type": "code",
   "execution_count": null,
   "metadata": {
    "id": "IHRfL-uZdthb"
   },
   "outputs": [],
   "source": [
    "var_exp=pca.explained_variance_ratio_ # varianza explicada por cada PC\n",
    "cum_var_exp = np.cumsum(var_exp) # varianza acumulada por los primeros n PCs\n",
    "var_exp"
   ]
  },
  {
   "cell_type": "markdown",
   "metadata": {
    "id": "95c0rHdydthb"
   },
   "source": [
    "El objeto PCA sirve además para pasar de la representación en las dimensiones originales a la de las dimensiones en el espacio de los componentes principales encontrados, a partir de su método transform:"
   ]
  },
  {
   "cell_type": "code",
   "execution_count": null,
   "metadata": {
    "id": "cDTrFVLHdthc"
   },
   "outputs": [],
   "source": [
    "dataPca = pca.transform(dataStd.iloc[:, 0:6])"
   ]
  },
  {
   "cell_type": "markdown",
   "metadata": {
    "id": "axIdUaCvdthc"
   },
   "source": [
    "Veamos gráficamente la cantidad de información correspondiente a cada componente principal:"
   ]
  },
  {
   "cell_type": "code",
   "execution_count": null,
   "metadata": {
    "id": "HRIzWd_vdthc"
   },
   "outputs": [],
   "source": [
    "plt.figure(figsize=(15, 7))\n",
    "plt.bar(range(len(var_exp)), var_exp, alpha=0.3333, align='center', label='Varianza explicada por cada PC', color = 'g')\n",
    "plt.step(range(len(cum_var_exp)), cum_var_exp, where='mid',label='Varianza explicada acumulada')\n",
    "plt.ylabel('Porcentaje de varianza explicada')\n",
    "plt.xlabel('Componentes principales')\n",
    "plt.legend(loc='best')\n",
    "plt.show()"
   ]
  },
  {
   "cell_type": "code",
   "execution_count": null,
   "metadata": {
    "id": "8nUcfqN2dthc"
   },
   "outputs": [],
   "source": [
    "np.sum(pca.explained_variance_ratio_[0:3])"
   ]
  },
  {
   "cell_type": "markdown",
   "metadata": {
    "id": "wR8C8VgQdthc"
   },
   "source": [
    "Encontramos que los primeros 3 componentes conservan el 81.6% de la información original, y los primeros 4 el 93.2%.\n",
    "Vamos a quedarnos solo con los 3 primeros PCs."
   ]
  },
  {
   "cell_type": "code",
   "execution_count": null,
   "metadata": {
    "id": "YQOQG2LOdthc"
   },
   "outputs": [],
   "source": [
    "dataPca = dataPca[:,0:3]"
   ]
  },
  {
   "cell_type": "code",
   "execution_count": null,
   "metadata": {
    "id": "n8kNLxB1dthc"
   },
   "outputs": [],
   "source": [
    "dataPca[0:5]"
   ]
  },
  {
   "cell_type": "markdown",
   "metadata": {
    "id": "Rw5L7eG0dthc"
   },
   "source": [
    "Vamos a ver los puntos en el nuevo sistema de representación dado por los componentes principales.\n",
    "Creamos una función que permite plotear tanto los puntos de los datos como los loadings de las variables originales (tomada de https://stackoverflow.com/questions/39216897/plot-pca-loadings-and-loading-in-biplot-in-sklearn-like-rs-autoplot).\n",
    "Esto nos permitirá entender mejor la relación entre componentes principales y variables originales."
   ]
  },
  {
   "cell_type": "code",
   "execution_count": null,
   "metadata": {
    "id": "Qu45aM5Odthc"
   },
   "outputs": [],
   "source": [
    "def biplot(data, loadings, index1, index2, labels=None):\n",
    "    plt.figure(figsize=(15, 7))\n",
    "    xs = data[:,index1]\n",
    "    ys = data[:,index2]\n",
    "    n=loadings.shape[0]\n",
    "    scalex = 1.0/(xs.max()- xs.min())\n",
    "    scaley = 1.0/(ys.max()- ys.min())\n",
    "    plt.scatter(xs*scalex,ys*scaley)\n",
    "    for i in range(n):\n",
    "        plt.arrow(0, 0, loadings[i,index1], loadings[i,index2],color='r',alpha=0.5)\n",
    "        if labels is None:\n",
    "            plt.text(loadings[i,index1]* 1.15, loadings[i,index2] * 1.15, \"Var\"+str(i+1), color='g', ha='center', va='center')\n",
    "        else:\n",
    "            plt.text(loadings[i,index1]* 1.15, loadings[i,index2] * 1.15, labels[i], color='g', ha='center', va='center')\n",
    "    plt.xlim(-1,1)\n",
    "    plt.ylim(-1,1)\n",
    "    plt.xlabel(\"PC{}\".format(index1))\n",
    "    plt.ylabel(\"PC{}\".format(index2))\n",
    "    plt.grid() "
   ]
  },
  {
   "cell_type": "markdown",
   "metadata": {
    "id": "B3dO0vcmdthd"
   },
   "source": [
    "Veamos como nos va con los primeros dos componentes principales:"
   ]
  },
  {
   "cell_type": "code",
   "execution_count": null,
   "metadata": {
    "id": "1aUj8zvydthd"
   },
   "outputs": [],
   "source": [
    "biplot(dataPca, pca.components_, 0, 1, ['Fresh', 'Milk', 'Grocery', 'Frozen', 'Detergents_Paper', 'Delicassen'])"
   ]
  },
  {
   "cell_type": "code",
   "execution_count": null,
   "metadata": {
    "id": "0mCWUHWWdthd"
   },
   "outputs": [],
   "source": [
    "biplot(dataPca, pca.components_, 0, 2, ['Fresh', 'Milk', 'Grocery', 'Frozen', 'Detergents_Paper', 'Delicassen'])"
   ]
  },
  {
   "cell_type": "code",
   "execution_count": null,
   "metadata": {
    "id": "erqBiV2Zdthd"
   },
   "outputs": [],
   "source": [
    "dataStd.columns[0:6]"
   ]
  },
  {
   "cell_type": "code",
   "execution_count": null,
   "metadata": {
    "id": "1goDisHRdthd"
   },
   "outputs": [],
   "source": [
    "pca.components_"
   ]
  },
  {
   "cell_type": "markdown",
   "metadata": {
    "id": "mA7GUS-4dthd"
   },
   "source": [
    "Podemos decir que:\n",
    "- El componente PC1 representa positivamente las compras de leche en su sentido positivo, y negativamente las compras en Groceries y Frozen. Las otras variables no tienen mayor incidencia.\n",
    "- El componente PC2 representa sobretodo las compras de Detergentes/Papel y Fresh (positivamente)\n",
    "- El componente PC3 representa sobretodo las compras de Delicatessen y Fresh (positivamente), y Detergentes/Papel y Frozen (negativamente)"
   ]
  },
  {
   "cell_type": "markdown",
   "metadata": {
    "id": "k0349eJcdthd"
   },
   "source": [
    "Ahora que ya entendemos el significado de los componentes principales, podemos proseguir a un clustering de los registros en el espacio reducido:"
   ]
  },
  {
   "cell_type": "code",
   "execution_count": null,
   "metadata": {
    "id": "9yg3be0Hdthd"
   },
   "outputs": [],
   "source": [
    "dataPca = pd.DataFrame(dataPca)\n",
    "dataPca.columns=['PC1', 'PC2', 'PC3']"
   ]
  },
  {
   "cell_type": "code",
   "execution_count": null,
   "metadata": {
    "id": "IIX1FZj7dthd"
   },
   "outputs": [],
   "source": [
    "kmeans = KMeans(n_clusters=3, random_state=0, n_init=10)\n",
    "kmeans.fit(dataPca)\n",
    "clusters = kmeans.labels_"
   ]
  },
  {
   "cell_type": "code",
   "execution_count": null,
   "metadata": {
    "id": "J-3JjOB1dthd"
   },
   "outputs": [],
   "source": [
    "dataPca['Cluster']= clusters\n",
    "counter=Counter(clusters)\n",
    "print(counter)"
   ]
  },
  {
   "cell_type": "code",
   "execution_count": null,
   "metadata": {
    "id": "VHPKrcHGdthd"
   },
   "outputs": [],
   "source": [
    "var_num = ['Fresh', 'Milk', 'Grocery', 'Frozen', 'Detergents_Paper', 'Delicassen']"
   ]
  },
  {
   "cell_type": "code",
   "execution_count": null,
   "metadata": {
    "id": "opsZkbbvdthe"
   },
   "outputs": [],
   "source": [
    "fig = plt.figure(figsize=(18,15))\n",
    "i=1\n",
    "for var in dataPca.columns[0:3]:\n",
    "    ax = fig.add_subplot(math.ceil(len(var_num)/2), 2, i)\n",
    "    sns.kdeplot(dataPca.loc[dataPca.Cluster==0][var], shade=True, color='r', ax=ax);\n",
    "    sns.kdeplot(dataPca.loc[dataPca.Cluster==1][var], shade=True, color='b', ax=ax);\n",
    "    sns.kdeplot(dataPca.loc[dataPca.Cluster==2][var], shade=True, color='g', ax=ax);\n",
    "    plt.title(var)\n",
    "    plt.legend(['Cluster 0', 'Cluster 1', 'Cluster 2'])\n",
    "    i+=1"
   ]
  },
  {
   "cell_type": "markdown",
   "metadata": {
    "id": "v6YvS26Idthe"
   },
   "source": [
    "Vemos que con K=3, El PC1 sirve para separar bien los puntos del cluster rojo (0), el PC2 sirve para distinguir el cluster verde (2). El cluster azul (1) no se puede separar directamente de los demas a través de uno de los PCs, pero si al considerar los 3 PCs."
   ]
  },
  {
   "cell_type": "markdown",
   "metadata": {
    "id": "IaPhpNGXdthe"
   },
   "source": [
    "Veamoslos en scatterplots para entender mejor las diferencias:"
   ]
  },
  {
   "cell_type": "code",
   "execution_count": null,
   "metadata": {
    "id": "BGhCpV3cdthe"
   },
   "outputs": [],
   "source": [
    "fig = plt.figure(figsize=(15,10))\n",
    "colorPalette = [\"r\", \"b\", \"g\"]\n",
    "ax = fig.add_subplot(2, 2, 1)\n",
    "sns.scatterplot(x=\"PC1\", y=\"PC2\", hue=\"Cluster\", data=dataPca, ax=ax, palette=colorPalette, s=100, alpha=0.5)\n",
    "plt.title(\"PC1 vs. PC2\")\n",
    "ax = fig.add_subplot(2, 2, 2)\n",
    "sns.scatterplot(x=\"PC1\", y=\"PC3\", hue=\"Cluster\", data=dataPca, ax=ax, palette=colorPalette, s=100, alpha=0.5)\n",
    "plt.title(\"PC1 vs. PC3\")\n",
    "ax = fig.add_subplot(2, 2, 3)\n",
    "sns.scatterplot(x=\"PC2\", y=\"PC3\", hue=\"Cluster\", data=dataPca, ax=ax, palette=colorPalette, s=100, alpha=0.5)\n",
    "plt.title(\"PC2 vs. PC3\")\n",
    "plt.show()"
   ]
  },
  {
   "cell_type": "markdown",
   "metadata": {
    "id": "hDZnj1uadthf"
   },
   "source": [
    "Vemos que con K=3, en el plot de los 2 primeros PCs podemos separar bien los 3 clusters.\n",
    "Recordemos que el PC1 representa positivamente las compras de leche en su sentido positivo, y negativamente las compras en Groceries y Frozen, y que el componente PC2 representa sobretodo las compras de Detergentes/Papel y Fresh (positivamente)."
   ]
  },
  {
   "cell_type": "markdown",
   "metadata": {
    "id": "G0WkMMAYdthf"
   },
   "source": [
    "**Nota**: Realizar la determinación del número de cluster puede hacerse tanto en el espacio de representación original (ya estandarizado) como en el de los componentes principales (considerandolos todos). Los resultados serán los mismos, ya que tanto el método del codo como el de la silueta se basan en cálculos de distancias, que se conservan después de la transformación en componentes temporales, que no es más que una rotación de los ejes.\n"
   ]
  }
 ],
 "metadata": {
  "colab": {
   "collapsed_sections": [],
   "name": "03-SUPERMERCADOS-PCA-PROF.ipynb",
   "provenance": []
  },
  "kernelspec": {
   "display_name": "Python 3 (ipykernel)",
   "language": "python",
   "name": "python3"
  },
  "language_info": {
   "codemirror_mode": {
    "name": "ipython",
    "version": 3
   },
   "file_extension": ".py",
   "mimetype": "text/x-python",
   "name": "python",
   "nbconvert_exporter": "python",
   "pygments_lexer": "ipython3",
   "version": "3.9.12"
  }
 },
 "nbformat": 4,
 "nbformat_minor": 1
}
