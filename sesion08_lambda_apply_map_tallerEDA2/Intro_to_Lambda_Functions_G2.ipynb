{
  "nbformat": 4,
  "nbformat_minor": 0,
  "metadata": {
    "colab": {
      "name": "Intro to Lambda Functions G2.ipynb",
      "provenance": [],
      "collapsed_sections": []
    },
    "kernelspec": {
      "name": "python3",
      "display_name": "Python 3"
    },
    "language_info": {
      "name": "python"
    }
  },
  "cells": [
    {
      "cell_type": "markdown",
      "source": [
        "## Lambda y otras funciones importantes"
      ],
      "metadata": {
        "id": "YYk51fYQStzj"
      }
    },
    {
      "cell_type": "markdown",
      "source": [
        "En el Procesamiento de Datos, a menudo es necesario realizar operaciones (como cálculos estadísticos, división o sustitución de valores) en una determinada fila o columna para obtener nuevos datos. Escribir un bucle for para iterar a través de Pandas DataFrame y Series hará el trabajo, pero no parece una buena idea. El bucle for tiende a tener más líneas de código, menos legibilidad del código y un rendimiento más lento."
      ],
      "metadata": {
        "id": "0bQy1tzlSujQ"
      }
    },
    {
      "cell_type": "markdown",
      "source": [
        "Afortunadamente, ¡ya hay grandes métodos incorporados en Pandas para ayudarte a lograr los objetivos! En este artículo, veremos cómo realizar operaciones usando apply() y applymap(), y cómo sustituir valores usando map()."
      ],
      "metadata": {
        "id": "QMYmJuIVTCXq"
      }
    },
    {
      "cell_type": "markdown",
      "source": [
        "* apply() se utiliza para aplicar una función a lo largo de un eje del DataFrame o sobre valores de Series.\n",
        "* applymap() se utiliza para aplicar una función a un DataFrame por elementos.\n",
        "* map() se utiliza para sustituir cada valor de una Serie por otro valor."
      ],
      "metadata": {
        "id": "tjyREHGcTO9Y"
      }
    },
    {
      "cell_type": "markdown",
      "source": [
        "Creemos un dataset dummy..."
      ],
      "metadata": {
        "id": "OeHbyOXzTk1S"
      }
    },
    {
      "cell_type": "code",
      "execution_count": null,
      "metadata": {
        "id": "f970Hqh-STlb"
      },
      "outputs": [],
      "source": [
        "import pandas as pd\n",
        "import numpy as np\n",
        "df = pd.DataFrame({ 'A': [1,2,3,4], \n",
        "                   'B': [10,20,30,40],\n",
        "                   'C': [20,40,60,80]\n",
        "                  }, \n",
        "                  index=['Row 1', 'Row 2', 'Row 3', 'Row 4'])"
      ]
    },
    {
      "cell_type": "markdown",
      "source": [
        "El Pandas apply() se utiliza para aplicar una función a lo largo de un eje del DataFrame o sobre valores de Series."
      ],
      "metadata": {
        "id": "gKRLsy6uUsLY"
      }
    },
    {
      "cell_type": "code",
      "source": [
        "def custom_sum(row):\n",
        "    return row.sum()\n",
        "    \n",
        "df['D'] = df.apply(custom_sum, axis=1)"
      ],
      "metadata": {
        "id": "2a-iiFYXTpJU"
      },
      "execution_count": null,
      "outputs": []
    },
    {
      "cell_type": "code",
      "source": [
        "df"
      ],
      "metadata": {
        "id": "ejYSvT4QU3VK"
      },
      "execution_count": null,
      "outputs": []
    },
    {
      "cell_type": "code",
      "source": [
        "df.loc['Row 5'] = df.apply(custom_sum, axis=0)"
      ],
      "metadata": {
        "id": "XUROLVuXU4BY"
      },
      "execution_count": null,
      "outputs": []
    },
    {
      "cell_type": "code",
      "source": [
        "df"
      ],
      "metadata": {
        "id": "i78p4I3hVBO4"
      },
      "execution_count": null,
      "outputs": []
    },
    {
      "cell_type": "code",
      "source": [
        "df = pd.DataFrame({ 'A': [1,2,3,4], \n",
        "                   'B': [10,20,30,40],\n",
        "                   'C': [20,40,60,80]\n",
        "                  }, \n",
        "                  index=['Row 1', 'Row 2', 'Row 3', 'Row 4'])"
      ],
      "metadata": {
        "id": "iUQFkIIHVB3C"
      },
      "execution_count": null,
      "outputs": []
    },
    {
      "cell_type": "markdown",
      "source": [
        "Las funciones Lambda son también conocidas como funciones anónimas ya que se definen sin un nombre."
      ],
      "metadata": {
        "id": "XORLPDL0VTh9"
      }
    },
    {
      "cell_type": "code",
      "source": [
        "df['D'] = df.apply(lambda x:x.sum(), axis=1)"
      ],
      "metadata": {
        "id": "zfDDS13sVQ49"
      },
      "execution_count": null,
      "outputs": []
    },
    {
      "cell_type": "code",
      "source": [
        "df"
      ],
      "metadata": {
        "id": "44TKnLKlVsr4"
      },
      "execution_count": null,
      "outputs": []
    },
    {
      "cell_type": "code",
      "source": [
        "df.loc['Row 5'] = df.apply(lambda x:x.sum(), axis=0)"
      ],
      "metadata": {
        "id": "X2tVhj1sVtP5"
      },
      "execution_count": null,
      "outputs": []
    },
    {
      "cell_type": "code",
      "source": [
        "df"
      ],
      "metadata": {
        "id": "tfASNV_2V0Ya"
      },
      "execution_count": null,
      "outputs": []
    },
    {
      "cell_type": "code",
      "source": [
        "df['D'] = df['C'].apply(lambda x:x*2)"
      ],
      "metadata": {
        "id": "-cVfNXREV0wn"
      },
      "execution_count": null,
      "outputs": []
    },
    {
      "cell_type": "code",
      "source": [
        "df"
      ],
      "metadata": {
        "id": "kaGZCUozWBEj"
      },
      "execution_count": null,
      "outputs": []
    },
    {
      "cell_type": "markdown",
      "source": [
        "applymap() sólo está disponible en DataFrame y se utiliza para la operación por elementos en todo el DataFrame"
      ],
      "metadata": {
        "id": "vqS8FF1pXIEL"
      }
    },
    {
      "cell_type": "code",
      "source": [
        "df.applymap(np.square)"
      ],
      "metadata": {
        "id": "BZeBledEXODf"
      },
      "execution_count": null,
      "outputs": []
    },
    {
      "cell_type": "code",
      "source": [
        "df.applymap(lambda x: x*2)"
      ],
      "metadata": {
        "id": "aD7QM6ODWut_"
      },
      "execution_count": null,
      "outputs": []
    },
    {
      "cell_type": "markdown",
      "source": [
        "map() sólo está disponible en Series y se utiliza para sustituir cada valor de una Serie por otro valor."
      ],
      "metadata": {
        "id": "kG4pqqD1X10a"
      }
    },
    {
      "cell_type": "code",
      "source": [
        "s = pd.Series(['cat', 'dog', np.nan, 'rabbit'])"
      ],
      "metadata": {
        "id": "IZRWtAMlXoMb"
      },
      "execution_count": null,
      "outputs": []
    },
    {
      "cell_type": "code",
      "source": [
        "s"
      ],
      "metadata": {
        "id": "lJrxuSuOX4DY"
      },
      "execution_count": null,
      "outputs": []
    },
    {
      "cell_type": "markdown",
      "source": [
        "map() acepta un dict o una Serie. Los valores que no se encuentran en el dict se convierten en NaN, a menos que el dict tenga un valor por defecto (por ejemplo, defaultdict):"
      ],
      "metadata": {
        "id": "DRjHy3kvZMQs"
      }
    },
    {
      "cell_type": "code",
      "source": [
        "s.map({'cat': 'kitten', 'dog': 'puppy'})"
      ],
      "metadata": {
        "id": "dU4JC7kPX4qz"
      },
      "execution_count": null,
      "outputs": []
    },
    {
      "cell_type": "markdown",
      "source": [
        "También acepta funciones\n"
      ],
      "metadata": {
        "id": "MpVxLBQmYN9w"
      }
    },
    {
      "cell_type": "code",
      "source": [
        "s.map('I am a {}'.format)"
      ],
      "metadata": {
        "id": "Q8G7oSzrX8wX"
      },
      "execution_count": null,
      "outputs": []
    },
    {
      "cell_type": "markdown",
      "source": [
        "Para evitar aplicar la función a los valores perdidos (y mantenerlos como NaN) se puede utilizar na_action='ignore'"
      ],
      "metadata": {
        "id": "Ys0rxzQjZh1j"
      }
    },
    {
      "cell_type": "code",
      "source": [
        "s.map('I am a {}'.format, na_action='ignore')"
      ],
      "metadata": {
        "id": "xG0xjjnVZZZF"
      },
      "execution_count": null,
      "outputs": []
    },
    {
      "cell_type": "markdown",
      "source": [
        "Tomado y adaptado de: https://towardsdatascience.com/introduction-to-pandas-apply-applymap-and-map-5d3e044e93ff"
      ],
      "metadata": {
        "id": "izyi2sdxZnDO"
      }
    }
  ]
}