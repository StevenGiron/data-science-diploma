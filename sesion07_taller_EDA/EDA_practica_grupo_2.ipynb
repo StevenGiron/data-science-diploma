{
 "cells": [
  {
   "cell_type": "markdown",
   "metadata": {
    "id": "EIL9XCHpnvjm"
   },
   "source": [
    "Taller tomado e inspirado en EC1 del curso DS4A"
   ]
  },
  {
   "cell_type": "markdown",
   "metadata": {
    "id": "mxd_StlInqRT"
   },
   "source": [
    "## Introducción\n",
    "\n",
    "**Contexto empresarial.** La ciudad de Nueva York ha visto aumentar el número de accidentes en las carreteras de la ciudad. Quieren saber si el número de accidentes ha aumentado en las últimas semanas. Para todos los accidentes reportados, han recopilado detalles para cada accidente y han estado manteniendo registros durante el último año y medio (desde enero de 2018 hasta agosto de 2019). \n",
    "\n",
    "La ciudad te ha contratado para construir visualizaciones que les ayuden a identificar patrones en los accidentes, lo que les ayudaría a tomar acciones preventivas para reducir el número de accidentes en el futuro. Tienen ciertos parámetros como municipio, hora del día, motivo del accidente, etc. Que les importa y de los que les gustaría obtener información específica.\n",
    "\n",
    "**Tu tarea es formatear los datos dados y proporcionar visualizaciones que respondan a las preguntas específicas del cliente, que se mencionan a continuación.\n",
    "\n",
    "**Contexto analítico: Se le da un archivo CSV (almacenado en la carpeta \"datos\" ya creada) que contiene detalles sobre cada accidente, como la fecha, la hora, la ubicación del accidente, el motivo del accidente, los tipos de vehículos implicados, el número de heridos y muertos, etc. El delimitador en el archivo CSV dado es `;` en lugar del predeterminado `,`. Usted realizará las siguientes tareas con los datos:\n",
    "\n",
    "1. Extraer los datos adicionales del municipio almacenados en un archivo JSON\n",
    "2. Leer, transformar y preparar los datos para su visualización\n",
    "3. Realizar análisis y construir visualizaciones de los datos para identificar patrones en el conjunto de datos\n",
    "        \n",
    "El cliente tiene un conjunto específico de preguntas a las que le gustaría obtener respuestas. Usted tendrá que proporcionar visualizaciones para acompañarlas."
   ]
  },
  {
   "cell_type": "markdown",
   "metadata": {
    "id": "i5BAya77o13Q"
   },
   "source": [
    "Tenemos las siguientes columnas:\n",
    "\n",
    "1. **BOROUGH**: The borough in which the accident occurred\n",
    "2. **COLLISION_ID**: A unique identifier for this collision\n",
    "3. **CONTRIBUTING FACTOR VEHICLE (1, 2, 3, 4, 5)**: Reasons for the accident\n",
    "4. **CROSS STREET NAME**: Nearest cross street to the location of the accident\n",
    "5. **DATE**: Date of the accident\n",
    "6. **TIME**: Time of the accident\n",
    "7. **LATITUDE**: Latitude of the accident\n",
    "8. **LONGITUDE**: Longitude of the accident\n",
    "9. **NUMBER OF (CYCLISTS, MOTORISTS, PEDESTRIANS) INJURED**: Injuries by category\n",
    "10. **NUMBER OF (CYCLISTS, MOTORISTS, PEDESTRIANS) KILLED**: Deaths by category\n",
    "11. **ON STREET NAME**: Street where the accident occurred\n",
    "13. **VEHICLE TYPE CODE (1, 2, 3, 4, 5)**: Types of vehicles involved in the accident\n",
    "14. **ZIP CODE**: Zip code of the accident location"
   ]
  },
  {
   "cell_type": "markdown",
   "metadata": {
    "id": "6htM2kQqpJZh"
   },
   "source": [
    "## Ejercicios"
   ]
  },
  {
   "cell_type": "code",
   "execution_count": 1,
   "metadata": {
    "id": "Kb9mTNR9p7tQ"
   },
   "outputs": [],
   "source": [
    "# Importe aqui las librerias necesarias (numpy,pandas,seaborn,etc)\n",
    "import numpy as np\n",
    "import pandas as pd\n",
    "import seaborn as sns\n",
    "import matplotlib.pyplot as plt\n",
    "import json"
   ]
  },
  {
   "cell_type": "markdown",
   "metadata": {
    "id": "GGK_KLynpSx3"
   },
   "source": [
    "1. Utilice (adapte) la función json.load() para cargar el archivo borough_data.json como un diccionario."
   ]
  },
  {
   "cell_type": "code",
   "execution_count": 2,
   "metadata": {
    "id": "zthCt5aVm-Ia"
   },
   "outputs": [
    {
     "data": {
      "text/plain": [
       "{'the bronx': {'name': 'the bronx', 'population': 1471160.0, 'area': 42.1},\n",
       " 'brooklyn': {'name': 'brooklyn', 'population': 2648771.0, 'area': 70.82},\n",
       " 'manhattan': {'name': 'manhattan', 'population': 1664727.0, 'area': 22.83},\n",
       " 'queens': {'name': 'queens', 'population': 2358582.0, 'area': 108.53},\n",
       " 'staten island': {'name': 'staten island',\n",
       "  'population': 479458.0,\n",
       "  'area': 58.37}}"
      ]
     },
     "execution_count": 2,
     "metadata": {},
     "output_type": "execute_result"
    }
   ],
   "source": [
    "#Pista\n",
    "with open('borough_data.json') as f:\n",
    "    borough_data=json.load(f)\n",
    "borough_data"
   ]
  },
  {
   "cell_type": "markdown",
   "metadata": {
    "id": "0btKIFbdpiBp"
   },
   "source": [
    "2. Del mismo modo, utilice la función de pandas read_csv() para cargar el archivo accidents.csv como un DataFrame. Nombre este DataFrame df. Nota: Recuerde que ek separador es ';' en lugar de ','"
   ]
  },
  {
   "cell_type": "code",
   "execution_count": 3,
   "metadata": {
    "id": "1hU6Jh6nphnt",
    "scrolled": false
   },
   "outputs": [
    {
     "data": {
      "text/html": [
       "<div>\n",
       "<style scoped>\n",
       "    .dataframe tbody tr th:only-of-type {\n",
       "        vertical-align: middle;\n",
       "    }\n",
       "\n",
       "    .dataframe tbody tr th {\n",
       "        vertical-align: top;\n",
       "    }\n",
       "\n",
       "    .dataframe thead th {\n",
       "        text-align: right;\n",
       "    }\n",
       "</style>\n",
       "<table border=\"1\" class=\"dataframe\">\n",
       "  <thead>\n",
       "    <tr style=\"text-align: right;\">\n",
       "      <th></th>\n",
       "      <th>DATE</th>\n",
       "      <th>TIME</th>\n",
       "      <th>BOROUGH</th>\n",
       "      <th>ZIP CODE</th>\n",
       "      <th>LATITUDE</th>\n",
       "      <th>LONGITUDE</th>\n",
       "      <th>ON STREET NAME</th>\n",
       "      <th>NUMBER OF PEDESTRIANS INJURED</th>\n",
       "      <th>NUMBER OF PEDESTRIANS KILLED</th>\n",
       "      <th>NUMBER OF CYCLIST INJURED</th>\n",
       "      <th>...</th>\n",
       "      <th>CONTRIBUTING FACTOR VEHICLE 2</th>\n",
       "      <th>CONTRIBUTING FACTOR VEHICLE 3</th>\n",
       "      <th>CONTRIBUTING FACTOR VEHICLE 4</th>\n",
       "      <th>CONTRIBUTING FACTOR VEHICLE 5</th>\n",
       "      <th>COLLISION_ID</th>\n",
       "      <th>VEHICLE TYPE CODE 1</th>\n",
       "      <th>VEHICLE TYPE CODE 2</th>\n",
       "      <th>VEHICLE TYPE CODE 3</th>\n",
       "      <th>VEHICLE TYPE CODE 4</th>\n",
       "      <th>VEHICLE TYPE CODE 5</th>\n",
       "    </tr>\n",
       "  </thead>\n",
       "  <tbody>\n",
       "    <tr>\n",
       "      <th>0</th>\n",
       "      <td>09/26/2018</td>\n",
       "      <td>12:12</td>\n",
       "      <td>BRONX</td>\n",
       "      <td>10454.0</td>\n",
       "      <td>40.808987</td>\n",
       "      <td>-73.911316</td>\n",
       "      <td>NaN</td>\n",
       "      <td>0</td>\n",
       "      <td>0</td>\n",
       "      <td>0</td>\n",
       "      <td>...</td>\n",
       "      <td>NaN</td>\n",
       "      <td>NaN</td>\n",
       "      <td>NaN</td>\n",
       "      <td>NaN</td>\n",
       "      <td>3988123</td>\n",
       "      <td>Sedan</td>\n",
       "      <td>NaN</td>\n",
       "      <td>NaN</td>\n",
       "      <td>NaN</td>\n",
       "      <td>NaN</td>\n",
       "    </tr>\n",
       "    <tr>\n",
       "      <th>1</th>\n",
       "      <td>09/25/2018</td>\n",
       "      <td>16:30</td>\n",
       "      <td>BROOKLYN</td>\n",
       "      <td>11236.0</td>\n",
       "      <td>40.636005</td>\n",
       "      <td>-73.912510</td>\n",
       "      <td>FLATLANDS AVENUE</td>\n",
       "      <td>1</td>\n",
       "      <td>0</td>\n",
       "      <td>0</td>\n",
       "      <td>...</td>\n",
       "      <td>NaN</td>\n",
       "      <td>NaN</td>\n",
       "      <td>NaN</td>\n",
       "      <td>NaN</td>\n",
       "      <td>3987962</td>\n",
       "      <td>Sedan</td>\n",
       "      <td>NaN</td>\n",
       "      <td>NaN</td>\n",
       "      <td>NaN</td>\n",
       "      <td>NaN</td>\n",
       "    </tr>\n",
       "    <tr>\n",
       "      <th>2</th>\n",
       "      <td>08/22/2019</td>\n",
       "      <td>19:30</td>\n",
       "      <td>QUEENS</td>\n",
       "      <td>11101.0</td>\n",
       "      <td>40.755490</td>\n",
       "      <td>-73.939530</td>\n",
       "      <td>NaN</td>\n",
       "      <td>0</td>\n",
       "      <td>0</td>\n",
       "      <td>0</td>\n",
       "      <td>...</td>\n",
       "      <td>NaN</td>\n",
       "      <td>NaN</td>\n",
       "      <td>NaN</td>\n",
       "      <td>NaN</td>\n",
       "      <td>4193132</td>\n",
       "      <td>Sedan</td>\n",
       "      <td>NaN</td>\n",
       "      <td>NaN</td>\n",
       "      <td>NaN</td>\n",
       "      <td>NaN</td>\n",
       "    </tr>\n",
       "    <tr>\n",
       "      <th>3</th>\n",
       "      <td>09/23/2018</td>\n",
       "      <td>13:10</td>\n",
       "      <td>QUEENS</td>\n",
       "      <td>11367.0</td>\n",
       "      <td>NaN</td>\n",
       "      <td>NaN</td>\n",
       "      <td>MAIN STREET</td>\n",
       "      <td>0</td>\n",
       "      <td>0</td>\n",
       "      <td>1</td>\n",
       "      <td>...</td>\n",
       "      <td>Unspecified</td>\n",
       "      <td>NaN</td>\n",
       "      <td>NaN</td>\n",
       "      <td>NaN</td>\n",
       "      <td>3985962</td>\n",
       "      <td>Bike</td>\n",
       "      <td>Station Wagon/Sport Utility Vehicle</td>\n",
       "      <td>NaN</td>\n",
       "      <td>NaN</td>\n",
       "      <td>NaN</td>\n",
       "    </tr>\n",
       "    <tr>\n",
       "      <th>4</th>\n",
       "      <td>08/20/2019</td>\n",
       "      <td>22:40</td>\n",
       "      <td>BRONX</td>\n",
       "      <td>10468.0</td>\n",
       "      <td>40.868336</td>\n",
       "      <td>-73.901270</td>\n",
       "      <td>NaN</td>\n",
       "      <td>0</td>\n",
       "      <td>0</td>\n",
       "      <td>0</td>\n",
       "      <td>...</td>\n",
       "      <td>Unspecified</td>\n",
       "      <td>NaN</td>\n",
       "      <td>NaN</td>\n",
       "      <td>NaN</td>\n",
       "      <td>4192111</td>\n",
       "      <td>Sedan</td>\n",
       "      <td>Sedan</td>\n",
       "      <td>NaN</td>\n",
       "      <td>NaN</td>\n",
       "      <td>NaN</td>\n",
       "    </tr>\n",
       "    <tr>\n",
       "      <th>...</th>\n",
       "      <td>...</td>\n",
       "      <td>...</td>\n",
       "      <td>...</td>\n",
       "      <td>...</td>\n",
       "      <td>...</td>\n",
       "      <td>...</td>\n",
       "      <td>...</td>\n",
       "      <td>...</td>\n",
       "      <td>...</td>\n",
       "      <td>...</td>\n",
       "      <td>...</td>\n",
       "      <td>...</td>\n",
       "      <td>...</td>\n",
       "      <td>...</td>\n",
       "      <td>...</td>\n",
       "      <td>...</td>\n",
       "      <td>...</td>\n",
       "      <td>...</td>\n",
       "      <td>...</td>\n",
       "      <td>...</td>\n",
       "      <td>...</td>\n",
       "    </tr>\n",
       "    <tr>\n",
       "      <th>238517</th>\n",
       "      <td>01/20/2018</td>\n",
       "      <td>15:00</td>\n",
       "      <td>QUEENS</td>\n",
       "      <td>11436.0</td>\n",
       "      <td>40.685356</td>\n",
       "      <td>-73.797230</td>\n",
       "      <td>LINDEN BOULEVARD</td>\n",
       "      <td>0</td>\n",
       "      <td>0</td>\n",
       "      <td>0</td>\n",
       "      <td>...</td>\n",
       "      <td>Unspecified</td>\n",
       "      <td>NaN</td>\n",
       "      <td>NaN</td>\n",
       "      <td>NaN</td>\n",
       "      <td>3832275</td>\n",
       "      <td>SPORT UTILITY / STATION WAGON</td>\n",
       "      <td>PASSENGER VEHICLE</td>\n",
       "      <td>NaN</td>\n",
       "      <td>NaN</td>\n",
       "      <td>NaN</td>\n",
       "    </tr>\n",
       "    <tr>\n",
       "      <th>238518</th>\n",
       "      <td>01/04/2018</td>\n",
       "      <td>14:00</td>\n",
       "      <td>BRONX</td>\n",
       "      <td>10452.0</td>\n",
       "      <td>40.845180</td>\n",
       "      <td>-73.914170</td>\n",
       "      <td>JEROME AVENUE</td>\n",
       "      <td>0</td>\n",
       "      <td>0</td>\n",
       "      <td>0</td>\n",
       "      <td>...</td>\n",
       "      <td>NaN</td>\n",
       "      <td>NaN</td>\n",
       "      <td>NaN</td>\n",
       "      <td>NaN</td>\n",
       "      <td>3822315</td>\n",
       "      <td>SPORT UTILITY / STATION WAGON</td>\n",
       "      <td>NaN</td>\n",
       "      <td>NaN</td>\n",
       "      <td>NaN</td>\n",
       "      <td>NaN</td>\n",
       "    </tr>\n",
       "    <tr>\n",
       "      <th>238519</th>\n",
       "      <td>01/20/2018</td>\n",
       "      <td>13:05</td>\n",
       "      <td>BRONX</td>\n",
       "      <td>10462.0</td>\n",
       "      <td>40.831210</td>\n",
       "      <td>-73.850876</td>\n",
       "      <td>CASTLE HILL AVENUE</td>\n",
       "      <td>0</td>\n",
       "      <td>0</td>\n",
       "      <td>0</td>\n",
       "      <td>...</td>\n",
       "      <td>Unspecified</td>\n",
       "      <td>NaN</td>\n",
       "      <td>NaN</td>\n",
       "      <td>NaN</td>\n",
       "      <td>3832513</td>\n",
       "      <td>PASSENGER VEHICLE</td>\n",
       "      <td>SPORT UTILITY / STATION WAGON</td>\n",
       "      <td>NaN</td>\n",
       "      <td>NaN</td>\n",
       "      <td>NaN</td>\n",
       "    </tr>\n",
       "    <tr>\n",
       "      <th>238520</th>\n",
       "      <td>01/29/2018</td>\n",
       "      <td>17:45</td>\n",
       "      <td>QUEENS</td>\n",
       "      <td>11377.0</td>\n",
       "      <td>40.757250</td>\n",
       "      <td>-73.904854</td>\n",
       "      <td>31 AVENUE</td>\n",
       "      <td>0</td>\n",
       "      <td>0</td>\n",
       "      <td>0</td>\n",
       "      <td>...</td>\n",
       "      <td>Unspecified</td>\n",
       "      <td>NaN</td>\n",
       "      <td>NaN</td>\n",
       "      <td>NaN</td>\n",
       "      <td>3837608</td>\n",
       "      <td>SPORT UTILITY / STATION WAGON</td>\n",
       "      <td>PASSENGER VEHICLE</td>\n",
       "      <td>NaN</td>\n",
       "      <td>NaN</td>\n",
       "      <td>NaN</td>\n",
       "    </tr>\n",
       "    <tr>\n",
       "      <th>238521</th>\n",
       "      <td>01/23/2018</td>\n",
       "      <td>16:38</td>\n",
       "      <td>BROOKLYN</td>\n",
       "      <td>11211.0</td>\n",
       "      <td>40.710197</td>\n",
       "      <td>-73.958430</td>\n",
       "      <td>HAVEMEYER STREET</td>\n",
       "      <td>0</td>\n",
       "      <td>0</td>\n",
       "      <td>0</td>\n",
       "      <td>...</td>\n",
       "      <td>Passing or Lane Usage Improper</td>\n",
       "      <td>NaN</td>\n",
       "      <td>NaN</td>\n",
       "      <td>NaN</td>\n",
       "      <td>3833631</td>\n",
       "      <td>SPORT UTILITY / STATION WAGON</td>\n",
       "      <td>SPORT UTILITY / STATION WAGON</td>\n",
       "      <td>NaN</td>\n",
       "      <td>NaN</td>\n",
       "      <td>NaN</td>\n",
       "    </tr>\n",
       "  </tbody>\n",
       "</table>\n",
       "<p>238522 rows × 24 columns</p>\n",
       "</div>"
      ],
      "text/plain": [
       "              DATE   TIME   BOROUGH  ZIP CODE   LATITUDE  LONGITUDE  \\\n",
       "0       09/26/2018  12:12     BRONX   10454.0  40.808987 -73.911316   \n",
       "1       09/25/2018  16:30  BROOKLYN   11236.0  40.636005 -73.912510   \n",
       "2       08/22/2019  19:30    QUEENS   11101.0  40.755490 -73.939530   \n",
       "3       09/23/2018  13:10    QUEENS   11367.0        NaN        NaN   \n",
       "4       08/20/2019  22:40     BRONX   10468.0  40.868336 -73.901270   \n",
       "...            ...    ...       ...       ...        ...        ...   \n",
       "238517  01/20/2018  15:00    QUEENS   11436.0  40.685356 -73.797230   \n",
       "238518  01/04/2018  14:00     BRONX   10452.0  40.845180 -73.914170   \n",
       "238519  01/20/2018  13:05     BRONX   10462.0  40.831210 -73.850876   \n",
       "238520  01/29/2018  17:45    QUEENS   11377.0  40.757250 -73.904854   \n",
       "238521  01/23/2018  16:38  BROOKLYN   11211.0  40.710197 -73.958430   \n",
       "\n",
       "                          ON STREET NAME  NUMBER OF PEDESTRIANS INJURED  \\\n",
       "0                                    NaN                              0   \n",
       "1       FLATLANDS AVENUE                                              1   \n",
       "2                                    NaN                              0   \n",
       "3       MAIN STREET                                                   0   \n",
       "4                                    NaN                              0   \n",
       "...                                  ...                            ...   \n",
       "238517  LINDEN BOULEVARD                                              0   \n",
       "238518  JEROME AVENUE                                                 0   \n",
       "238519  CASTLE HILL AVENUE                                            0   \n",
       "238520  31 AVENUE                                                     0   \n",
       "238521  HAVEMEYER STREET                                              0   \n",
       "\n",
       "        NUMBER OF PEDESTRIANS KILLED  NUMBER OF CYCLIST INJURED  ...  \\\n",
       "0                                  0                          0  ...   \n",
       "1                                  0                          0  ...   \n",
       "2                                  0                          0  ...   \n",
       "3                                  0                          1  ...   \n",
       "4                                  0                          0  ...   \n",
       "...                              ...                        ...  ...   \n",
       "238517                             0                          0  ...   \n",
       "238518                             0                          0  ...   \n",
       "238519                             0                          0  ...   \n",
       "238520                             0                          0  ...   \n",
       "238521                             0                          0  ...   \n",
       "\n",
       "         CONTRIBUTING FACTOR VEHICLE 2  CONTRIBUTING FACTOR VEHICLE 3  \\\n",
       "0                                  NaN                            NaN   \n",
       "1                                  NaN                            NaN   \n",
       "2                                  NaN                            NaN   \n",
       "3                          Unspecified                            NaN   \n",
       "4                          Unspecified                            NaN   \n",
       "...                                ...                            ...   \n",
       "238517                     Unspecified                            NaN   \n",
       "238518                             NaN                            NaN   \n",
       "238519                     Unspecified                            NaN   \n",
       "238520                     Unspecified                            NaN   \n",
       "238521  Passing or Lane Usage Improper                            NaN   \n",
       "\n",
       "        CONTRIBUTING FACTOR VEHICLE 4 CONTRIBUTING FACTOR VEHICLE 5  \\\n",
       "0                                 NaN                           NaN   \n",
       "1                                 NaN                           NaN   \n",
       "2                                 NaN                           NaN   \n",
       "3                                 NaN                           NaN   \n",
       "4                                 NaN                           NaN   \n",
       "...                               ...                           ...   \n",
       "238517                            NaN                           NaN   \n",
       "238518                            NaN                           NaN   \n",
       "238519                            NaN                           NaN   \n",
       "238520                            NaN                           NaN   \n",
       "238521                            NaN                           NaN   \n",
       "\n",
       "       COLLISION_ID            VEHICLE TYPE CODE 1  \\\n",
       "0           3988123                          Sedan   \n",
       "1           3987962                          Sedan   \n",
       "2           4193132                          Sedan   \n",
       "3           3985962                           Bike   \n",
       "4           4192111                          Sedan   \n",
       "...             ...                            ...   \n",
       "238517      3832275  SPORT UTILITY / STATION WAGON   \n",
       "238518      3822315  SPORT UTILITY / STATION WAGON   \n",
       "238519      3832513              PASSENGER VEHICLE   \n",
       "238520      3837608  SPORT UTILITY / STATION WAGON   \n",
       "238521      3833631  SPORT UTILITY / STATION WAGON   \n",
       "\n",
       "                        VEHICLE TYPE CODE 2 VEHICLE TYPE CODE 3  \\\n",
       "0                                       NaN                 NaN   \n",
       "1                                       NaN                 NaN   \n",
       "2                                       NaN                 NaN   \n",
       "3       Station Wagon/Sport Utility Vehicle                 NaN   \n",
       "4                                     Sedan                 NaN   \n",
       "...                                     ...                 ...   \n",
       "238517                    PASSENGER VEHICLE                 NaN   \n",
       "238518                                  NaN                 NaN   \n",
       "238519        SPORT UTILITY / STATION WAGON                 NaN   \n",
       "238520                    PASSENGER VEHICLE                 NaN   \n",
       "238521        SPORT UTILITY / STATION WAGON                 NaN   \n",
       "\n",
       "        VEHICLE TYPE CODE 4 VEHICLE TYPE CODE 5  \n",
       "0                       NaN                 NaN  \n",
       "1                       NaN                 NaN  \n",
       "2                       NaN                 NaN  \n",
       "3                       NaN                 NaN  \n",
       "4                       NaN                 NaN  \n",
       "...                     ...                 ...  \n",
       "238517                  NaN                 NaN  \n",
       "238518                  NaN                 NaN  \n",
       "238519                  NaN                 NaN  \n",
       "238520                  NaN                 NaN  \n",
       "238521                  NaN                 NaN  \n",
       "\n",
       "[238522 rows x 24 columns]"
      ]
     },
     "execution_count": 3,
     "metadata": {},
     "output_type": "execute_result"
    }
   ],
   "source": [
    "df = pd.read_csv('accidents.csv', sep = ';')\n",
    "df"
   ]
  },
  {
   "cell_type": "markdown",
   "metadata": {
    "id": "YTKNGxwGqYoN"
   },
   "source": [
    "### Respondiendo las preguntas del cliente"
   ]
  },
  {
   "cell_type": "markdown",
   "metadata": {
    "id": "eTvJh3smrvwK"
   },
   "source": []
  },
  {
   "cell_type": "markdown",
   "metadata": {
    "id": "mA5qcbwVr_T0"
   },
   "source": [
    "1. Agrupe los datos de accidentes por mes."
   ]
  },
  {
   "cell_type": "code",
   "execution_count": 4,
   "metadata": {
    "id": "OY7uBiCfq1AE",
    "scrolled": false
   },
   "outputs": [
    {
     "data": {
      "text/plain": [
       "DATE2\n",
       "2018-01    11735\n",
       "2018-02    10395\n",
       "2018-03    12519\n",
       "2018-04    11679\n",
       "2018-05    13438\n",
       "2018-06    13314\n",
       "2018-07    12787\n",
       "2018-08    12644\n",
       "2018-09    12425\n",
       "2018-10    13336\n",
       "2018-11    12447\n",
       "2018-12    12479\n",
       "2019-01    11000\n",
       "2019-02    10310\n",
       "2019-03    11482\n",
       "2019-04    10833\n",
       "2019-05    12642\n",
       "2019-06    12577\n",
       "2019-07    12014\n",
       "2019-08     8466\n",
       "Freq: M, dtype: int64"
      ]
     },
     "execution_count": 4,
     "metadata": {},
     "output_type": "execute_result"
    }
   ],
   "source": [
    "#Pista. que hacen estas funciones? \n",
    "df[\"DATE2\"]=pd.to_datetime(df[\"DATE\"]).dt.to_period(\"M\")\n",
    "df_mes=df.groupby(\"DATE2\").size()\n",
    "df_mes\n"
   ]
  },
  {
   "cell_type": "markdown",
   "metadata": {
    "id": "CBO1I2X4sovx"
   },
   "source": [
    "2. Genere un diagrama de linea cuyo eje 'x' sea la fecha y el 'y' numero de accidentes. "
   ]
  },
  {
   "cell_type": "code",
   "execution_count": 5,
   "metadata": {},
   "outputs": [
    {
     "data": {
      "text/plain": [
       "<AxesSubplot:xlabel='DATE2'>"
      ]
     },
     "execution_count": 5,
     "metadata": {},
     "output_type": "execute_result"
    },
    {
     "data": {
      "image/png": "[encoded data removed]",
      "text/plain": [
       "<Figure size 1440x576 with 1 Axes>"
      ]
     },
     "metadata": {},
     "output_type": "display_data"
    }
   ],
   "source": [
    "df_mes.index = df_mes.index.astype(str)\n",
    "sns.set_theme(style=\"darkgrid\")\n",
    "plt.figure(figsize = (20,8))\n",
    "plt.xticks(rotation=90)\n",
    "sns.lineplot(x = df_mes.index, y = df_mes.values)"
   ]
  },
  {
   "cell_type": "markdown",
   "metadata": {
    "id": "G8KBF0Cds6Lp"
   },
   "source": [
    "3. Responda: Segun el diagrama anterior, incrementaron los accidentes durante el ultimo año y medio?"
   ]
  },
  {
   "cell_type": "markdown",
   "metadata": {
    "id": "-Xq1HscBtOk-"
   },
   "source": [
    "R/ En el intervalo entre la fecha 2018-03 y 2019-08 existen picos en los que se presentan una mayor cantidad de accidentes como fue en el año 2018-10 con una cifra que ascendió a los 13336 accidentes. Sin embargo, a la ultima fecha los accidentes se han reducido en una cantidad considerable ubicandose en 8466 accidentes para este año."
   ]
  },
  {
   "cell_type": "markdown",
   "metadata": {
    "id": "nLDCiT0-tfhk"
   },
   "source": [
    "4. Según el gráfico anterior, ¿qué meses parecen tener el menor número de accidentes? ¿A qué crees que se debe esto?"
   ]
  },
  {
   "cell_type": "markdown",
   "metadata": {
    "id": "s6yrsiHgtgsu"
   },
   "source": [
    "R/ Se observa que los meses con menor indice de accidentes son enero, febrero y abril quizas debido a que es una epoca de invierno y la nieve produce una disminución en el tráfico de la ciudad"
   ]
  },
  {
   "cell_type": "markdown",
   "metadata": {
    "id": "KpzRIxZwtkZN"
   },
   "source": [
    "5. Cree una nueva columna HORA basada en los datos de la columna TIME.\n",
    "Sugerencia: Puede encontrar útil la funcion dt.hour."
   ]
  },
  {
   "cell_type": "code",
   "execution_count": 6,
   "metadata": {
    "id": "IVJxeYhbtegr"
   },
   "outputs": [
    {
     "data": {
      "text/plain": [
       "0         12\n",
       "1         16\n",
       "2         19\n",
       "3         13\n",
       "4         22\n",
       "          ..\n",
       "238517    15\n",
       "238518    14\n",
       "238519    13\n",
       "238520    17\n",
       "238521    16\n",
       "Name: HORA, Length: 238522, dtype: int64"
      ]
     },
     "execution_count": 6,
     "metadata": {},
     "output_type": "execute_result"
    }
   ],
   "source": [
    "time = df['TIME'].astype('datetime64[ns]')\n",
    "df['HORA'] = time.dt.hour\n",
    "df['HORA']"
   ]
  },
  {
   "cell_type": "markdown",
   "metadata": {
    "id": "Ah4N5OlNt-xe"
   },
   "source": [
    "6. Genere un grafico de barras cuyo eje 'x' sea la hora y eje 'y' el numero de accidentes "
   ]
  },
  {
   "cell_type": "code",
   "execution_count": 7,
   "metadata": {
    "id": "NvAYZj_LuqMy"
   },
   "outputs": [
    {
     "data": {
      "text/plain": [
       "HORA\n",
       "0      8160\n",
       "1      3460\n",
       "2      2570\n",
       "3      2302\n",
       "4      2562\n",
       "5      2878\n",
       "6      4844\n",
       "7      7399\n",
       "8     13403\n",
       "9     12939\n",
       "10    11981\n",
       "11    12815\n",
       "12    13731\n",
       "13    14224\n",
       "14    16889\n",
       "15    15886\n",
       "16    17536\n",
       "17    17209\n",
       "18    14899\n",
       "19    11885\n",
       "20     9597\n",
       "21     8330\n",
       "22     7216\n",
       "23     5807\n",
       "dtype: int64"
      ]
     },
     "execution_count": 7,
     "metadata": {},
     "output_type": "execute_result"
    }
   ],
   "source": [
    "df_hora = df.groupby('HORA').size()\n",
    "df_hora"
   ]
  },
  {
   "cell_type": "code",
   "execution_count": 8,
   "metadata": {},
   "outputs": [
    {
     "data": {
      "text/plain": [
       "<AxesSubplot:xlabel='HORA'>"
      ]
     },
     "execution_count": 8,
     "metadata": {},
     "output_type": "execute_result"
    },
    {
     "data": {
      "image/png": "[encoded data removed]",
      "text/plain": [
       "<Figure size 1080x576 with 1 Axes>"
      ]
     },
     "metadata": {},
     "output_type": "display_data"
    }
   ],
   "source": [
    "sns.set_theme(style=\"darkgrid\")\n",
    "plt.figure(figsize = (15,8))\n",
    "sns.barplot(x = df_hora.index, y = df_hora.values, palette = 'rocket')"
   ]
  },
  {
   "cell_type": "markdown",
   "metadata": {
    "id": "G6370vntuu2b"
   },
   "source": [
    "7. ¿Cómo varía el número de accidentes a lo largo de un mismo día?"
   ]
  },
  {
   "cell_type": "markdown",
   "metadata": {
    "id": "vuXOtoI2uwQI"
   },
   "source": [
    "R/ Se observa que en horas de la madrugada se presenta el menor indice de accidentes y a eso de las 8 de la mañana estos empiecen a presentar un incremento llegando a su pico mas alto a las 16 y 17 horas. A partir de alli, el numero de accidentes empiezan a caer considerablemente."
   ]
  },
  {
   "cell_type": "markdown",
   "metadata": {
    "id": "lvUhcBvXu8pZ"
   },
   "source": [
    "8. En la pregunta anterior hemos agregado el número de accidentes por hora sin tener en cuenta la fecha y el lugar de ocurrencia. ¿Qué crítica le haría a este enfoque?"
   ]
  },
  {
   "cell_type": "markdown",
   "metadata": {
    "id": "M_IeiC6iu-jQ"
   },
   "source": [
    "R/ "
   ]
  },
  {
   "cell_type": "markdown",
   "metadata": {
    "id": "lSNIbP2_vS6k"
   },
   "source": [
    "9. Calcule el número de accidentes por día de la semana.\n",
    "Sugerencia: Puede encontrar útil dt.weekday."
   ]
  },
  {
   "cell_type": "code",
   "execution_count": 9,
   "metadata": {
    "id": "w_ECck9lvW4o"
   },
   "outputs": [
    {
     "data": {
      "text/plain": [
       "Int64Index([0, 1, 2, 3, 4, 5, 6], dtype='int64', name='DATE3')"
      ]
     },
     "execution_count": 9,
     "metadata": {},
     "output_type": "execute_result"
    }
   ],
   "source": [
    "df[\"DATE3\"] = pd.to_datetime(df[\"DATE\"]).dt.weekday\n",
    "df_day = df.groupby(\"DATE3\").size()\n",
    "df_day.index"
   ]
  },
  {
   "cell_type": "code",
   "execution_count": 10,
   "metadata": {},
   "outputs": [],
   "source": [
    "dias = ['Lunes', 'Martes', 'Miercoles', 'Jueves', 'Viernes', 'Sabado', 'Domingo']\n",
    "df_day.index = dias"
   ]
  },
  {
   "cell_type": "markdown",
   "metadata": {
    "id": "b9P4ZXAKvkzE"
   },
   "source": [
    "10. Cree un gráfico de barras basado en el recuento de accidentes por día de la semana."
   ]
  },
  {
   "cell_type": "code",
   "execution_count": 11,
   "metadata": {
    "id": "w7N6CsUpvgoM"
   },
   "outputs": [
    {
     "data": {
      "text/plain": [
       "<AxesSubplot:>"
      ]
     },
     "execution_count": 11,
     "metadata": {},
     "output_type": "execute_result"
    },
    {
     "data": {
      "image/png": "[encoded data removed]",
      "text/plain": [
       "<Figure size 1080x576 with 1 Axes>"
      ]
     },
     "metadata": {},
     "output_type": "display_data"
    }
   ],
   "source": [
    "sns.set_theme(style=\"darkgrid\")\n",
    "plt.figure(figsize = (15,8))\n",
    "sns.barplot(x = df_day.index, y = df_day.values)"
   ]
  },
  {
   "cell_type": "markdown",
   "metadata": {
    "id": "U9aVfwF5vsFv"
   },
   "source": [
    "11. ¿Cómo varía el número de accidentes a lo largo de una misma semana?"
   ]
  },
  {
   "cell_type": "code",
   "execution_count": null,
   "metadata": {
    "id": "5SbP4wlMvjrt"
   },
   "outputs": [],
   "source": []
  },
  {
   "cell_type": "markdown",
   "metadata": {
    "id": "3x2IsErUv2Qv"
   },
   "source": [
    "12. Calcule el número total de accidentes de cada borough"
   ]
  },
  {
   "cell_type": "code",
   "execution_count": 13,
   "metadata": {
    "id": "4BISSvJ1v6Hx"
   },
   "outputs": [
    {
     "data": {
      "text/plain": [
       "BOROUGH\n",
       "BRONX            37709\n",
       "BROOKLYN         76253\n",
       "MANHATTAN        48749\n",
       "QUEENS           67120\n",
       "STATEN ISLAND     8691\n",
       "dtype: int64"
      ]
     },
     "execution_count": 13,
     "metadata": {},
     "output_type": "execute_result"
    }
   ],
   "source": [
    "df_borough = df.groupby('BOROUGH').size()\n",
    "df_borough"
   ]
  },
  {
   "cell_type": "markdown",
   "metadata": {
    "id": "KIURs7JswA3M"
   },
   "source": [
    "13. Cree un gráfico con lo anterior"
   ]
  },
  {
   "cell_type": "code",
   "execution_count": 14,
   "metadata": {
    "id": "KTVu3qFqwF6C"
   },
   "outputs": [
    {
     "data": {
      "text/plain": [
       "<AxesSubplot:ylabel='BOROUGH'>"
      ]
     },
     "execution_count": 14,
     "metadata": {},
     "output_type": "execute_result"
    },
    {
     "data": {
      "image/png": "[encoded data removed]",
      "text/plain": [
       "<Figure size 720x360 with 1 Axes>"
      ]
     },
     "metadata": {},
     "output_type": "display_data"
    }
   ],
   "source": [
    "plt.figure(figsize = (10, 5))\n",
    "sns.barplot(y = df_borough.index, x = df_borough.values)"
   ]
  },
  {
   "cell_type": "markdown",
   "metadata": {
    "id": "mtdIxUWLwGhd"
   },
   "source": [
    "14. Qué notas en este gráfico?"
   ]
  },
  {
   "cell_type": "markdown",
   "metadata": {
    "id": "sCjntUIBwPnt"
   },
   "source": [
    "R/"
   ]
  },
  {
   "cell_type": "markdown",
   "metadata": {
    "id": "BttR7SqQwnN4"
   },
   "source": [
    "15. (dificil) ¿Y por milla cuadrada? Calcule el número de accidentes por milla cuadrada para cada municipio.\n",
    "Pista: Tendrás que actualizar las claves del diccionario de municipios para que coincidan con los nombres del DataFrame."
   ]
  },
  {
   "cell_type": "code",
   "execution_count": null,
   "metadata": {
    "id": "ydtFGea0wPB9"
   },
   "outputs": [],
   "source": []
  },
  {
   "cell_type": "markdown",
   "metadata": {
    "id": "eK8ySBFKw5hP"
   },
   "source": [
    "16. Traza un gráfico de barras de los accidentes por milla cuadrada por municipio con los datos que acabas de calcular."
   ]
  },
  {
   "cell_type": "code",
   "execution_count": null,
   "metadata": {
    "id": "wfmgkDEww9Iw"
   },
   "outputs": [],
   "source": []
  },
  {
   "cell_type": "markdown",
   "metadata": {
    "id": "E1juzpw1w-E9"
   },
   "source": [
    "17. Que puedes concluir de este grafico?"
   ]
  },
  {
   "cell_type": "markdown",
   "metadata": {
    "id": "rZPHOW0fxZOy"
   },
   "source": [
    "R/"
   ]
  },
  {
   "cell_type": "markdown",
   "metadata": {
    "id": "NL7eqkbyxMq0"
   },
   "source": [
    "18. Trace un gráfico de barras para cada borough que muestre el número de accidentes para cada hora del día. Sugerencia: Puede utilizar sns.FacetGrid para crear una cuadrícula de gráficos con los datos horarios de cada borough."
   ]
  },
  {
   "cell_type": "code",
   "execution_count": 15,
   "metadata": {
    "id": "TC_w33OMxOdx"
   },
   "outputs": [
    {
     "data": {
      "text/plain": [
       "DATE2\n",
       "2018-01    11735\n",
       "2018-02    10395\n",
       "2018-03    12519\n",
       "2018-04    11679\n",
       "2018-05    13438\n",
       "2018-06    13314\n",
       "2018-07    12787\n",
       "2018-08    12644\n",
       "2018-09    12425\n",
       "2018-10    13336\n",
       "2018-11    12447\n",
       "2018-12    12479\n",
       "2019-01    11000\n",
       "2019-02    10310\n",
       "2019-03    11482\n",
       "2019-04    10833\n",
       "2019-05    12642\n",
       "2019-06    12577\n",
       "2019-07    12014\n",
       "2019-08     8466\n",
       "Freq: M, dtype: int64"
      ]
     },
     "execution_count": 15,
     "metadata": {},
     "output_type": "execute_result"
    }
   ],
   "source": [
    "df[\"DATE2\"]=pd.to_datetime(df[\"DATE\"]).dt.to_period(\"M\")\n",
    "df_mes=df.groupby(\"DATE2\").size()\n",
    "df_mes"
   ]
  },
  {
   "cell_type": "markdown",
   "metadata": {
    "id": "Wve3oNs7xUCH"
   },
   "source": [
    "19. ¿Cuáles son las horas en las que se producen más accidentes en cada borough?"
   ]
  },
  {
   "cell_type": "markdown",
   "metadata": {
    "id": "uvtVpGa8xXYN"
   },
   "source": [
    "R/"
   ]
  },
  {
   "cell_type": "code",
   "execution_count": null,
   "metadata": {
    "id": "Cg3PFm0uxWwD"
   },
   "outputs": [],
   "source": []
  }
 ],
 "metadata": {
  "colab": {
   "collapsed_sections": [],
   "name": "EDA practica grupo 2.ipynb",
   "provenance": []
  },
  "kernelspec": {
   "display_name": "Python 3 (ipykernel)",
   "language": "python",
   "name": "python3"
  },
  "language_info": {
   "codemirror_mode": {
    "name": "ipython",
    "version": 3
   },
   "file_extension": ".py",
   "mimetype": "text/x-python",
   "name": "python",
   "nbconvert_exporter": "python",
   "pygments_lexer": "ipython3",
   "version": "3.9.12"
  }
 },
 "nbformat": 4,
 "nbformat_minor": 1
}
