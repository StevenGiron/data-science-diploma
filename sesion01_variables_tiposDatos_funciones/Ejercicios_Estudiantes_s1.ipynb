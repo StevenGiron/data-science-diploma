{
 "cells": [
  {
   "cell_type": "markdown",
   "metadata": {
    "id": "FZBrBdkvnZ1s"
   },
   "source": [
    "## Ejercicios"
   ]
  },
  {
   "cell_type": "markdown",
   "metadata": {
    "id": "_7VVSfOjndUB"
   },
   "source": [
    "1. Escriba un programa que dado\n",
    "un número entero indique si es\n",
    "par o impar"
   ]
  },
  {
   "cell_type": "code",
   "execution_count": 4,
   "metadata": {
    "id": "iBnx0A7GngIf"
   },
   "outputs": [
    {
     "name": "stdout",
     "output_type": "stream",
     "text": [
      "Digite un número5\n",
      "Es impar\n"
     ]
    }
   ],
   "source": [
    "numero = int(input('Digite un número: '))\n",
    "def es_par(numero):\n",
    "    if numero % 2 == 0:\n",
    "        print('Es par')\n",
    "    else:\n",
    "        print('Es impar')\n",
    "es_par(numero)"
   ]
  },
  {
   "cell_type": "markdown",
   "metadata": {
    "id": "bxe-aeGPnnIm"
   },
   "source": [
    "2. Escriba un programa que dado el\n",
    "salario base de un empleado\n",
    "indique si tiene derecho a auxilio\n",
    "de transporte y cuánto es total\n",
    "devengado. Un empleado recibe\n",
    "auxilio de transporte si devenga\n",
    "menos de dos salarios mínimos.\n",
    "\n",
    "El salario mínimo establecido\n",
    "por el gobierno para esa época era de\n",
    "877.803 y el valor mensual por concepto\n",
    "de auxilio de transporte fue\n",
    "establecido en 102.854"
   ]
  },
  {
   "cell_type": "code",
   "execution_count": 9,
   "metadata": {
    "id": "M36kvIuIn40f"
   },
   "outputs": [
    {
     "name": "stdout",
     "output_type": "stream",
     "text": [
      "Digite el valor del salario: 5000000\n",
      "La persona no tiene derecho a auxilio de transporte por ende su salario es: 5000000\n"
     ]
    }
   ],
   "source": [
    "salario = int(input('Digite el valor del salario: '))\n",
    "auxilio_transporte = 102854\n",
    "def calcular_devengado(salario):\n",
    "    if salario <= 877803*2:\n",
    "        salario += auxilio_transporte\n",
    "        print(f'La persona tiene derecho a auxilio de transporte por ende su salario es: {salario}')\n",
    "    else:\n",
    "        print(f'La persona no tiene derecho a auxilio de transporte por ende su salario es: {salario}')\n",
    "calcular_devengado(salario)"
   ]
  },
  {
   "cell_type": "markdown",
   "metadata": {
    "id": "-beb8WvqoMU-"
   },
   "source": [
    "3. Si los días están enumerados del\n",
    "1 al 7 empezando desde el\n",
    "Lunes. Escriba un programa que\n",
    "dado un número imprima el\n",
    "nombre del día de la semana\n",
    "correspondiente."
   ]
  },
  {
   "cell_type": "code",
   "execution_count": 28,
   "metadata": {
    "id": "r-0rGn8VoYzk"
   },
   "outputs": [
    {
     "name": "stdout",
     "output_type": "stream",
     "text": [
      "Digite el número del día: 7\n",
      "Domingo\n"
     ]
    }
   ],
   "source": [
    "dias_semana = {'1':'Lunes','2':'Martes','3':'Miercoles','4':'Jueves','5':'Viernes','6':'Sabado','7':'Domingo'}\n",
    "print(dias_semana[input('Digite el número del día: ')])"
   ]
  },
  {
   "cell_type": "markdown",
   "metadata": {
    "id": "rG-XBvVrovaT"
   },
   "source": [
    "4. Escribir un programa que pregunte al usuario su edad y muestre por pantalla si es mayor de edad o no"
   ]
  },
  {
   "cell_type": "code",
   "execution_count": 12,
   "metadata": {
    "id": "d6G9zm_6ow3S"
   },
   "outputs": [
    {
     "name": "stdout",
     "output_type": "stream",
     "text": [
      "Digite su edad: 17\n",
      "Usted es menor de edad\n"
     ]
    }
   ],
   "source": [
    "edad = int(input('Digite su edad: '))\n",
    "if edad >= 18:\n",
    "    print('Usted es mayor de edad')\n",
    "else:\n",
    "    print('Usted es menor de edad')"
   ]
  },
  {
   "cell_type": "markdown",
   "metadata": {
    "id": "lgyAg5RSoxbI"
   },
   "source": [
    "5. Para tributar un determinado impuesto se debe ser mayor de 16 años y tener unos ingresos iguales o superiores a 1000 € mensuales. Escribir un programa que pregunte al usuario su edad y sus ingresos mensuales y muestre por pantalla si el usuario tiene que tributar o no."
   ]
  },
  {
   "cell_type": "code",
   "execution_count": 16,
   "metadata": {
    "id": "TPgOl0i7pmzG"
   },
   "outputs": [
    {
     "name": "stdout",
     "output_type": "stream",
     "text": [
      "Digite su edad: 16\n",
      "Digite sus ingresos mensuales: 1000\n",
      "Usted no debe tributar\n"
     ]
    }
   ],
   "source": [
    "edad = int(input('Digite su edad: '))\n",
    "ingresos = int(input('Digite sus ingresos mensuales: '))\n",
    "if edad > 16 and ingresos >= 1000:\n",
    "    print('Usted debe tributar')\n",
    "else:\n",
    "    print('Usted no debe tributar')"
   ]
  },
  {
   "cell_type": "markdown",
   "metadata": {
    "id": "sN-D-Iewp9az"
   },
   "source": [
    "6. Escribir un programa para una empresa que tiene salas de juegos para todas las edades y quiere calcular de forma automática el precio que debe cobrar a sus clientes por entrar. El programa debe preguntar al usuario la edad del cliente y mostrar el precio de la entrada. Si el cliente es menor de 4 años puede entrar gratis, si tiene entre 4 y 18 años debe pagar 5€ y si es mayor de 18 años, 10€."
   ]
  },
  {
   "cell_type": "code",
   "execution_count": 33,
   "metadata": {
    "id": "YqkWjr9fqDWn"
   },
   "outputs": [
    {
     "name": "stdout",
     "output_type": "stream",
     "text": [
      "Digite su edad: \n"
     ]
    },
    {
     "ename": "ValueError",
     "evalue": "invalid literal for int() with base 10: ''",
     "output_type": "error",
     "traceback": [
      "\u001b[1;31m---------------------------------------------------------------------------\u001b[0m",
      "\u001b[1;31mValueError\u001b[0m                                Traceback (most recent call last)",
      "Input \u001b[1;32mIn [33]\u001b[0m, in \u001b[0;36m<cell line: 1>\u001b[1;34m()\u001b[0m\n\u001b[1;32m----> 1\u001b[0m edad \u001b[38;5;241m=\u001b[39m \u001b[38;5;28;43mint\u001b[39;49m\u001b[43m(\u001b[49m\u001b[38;5;28;43minput\u001b[39;49m\u001b[43m(\u001b[49m\u001b[38;5;124;43m'\u001b[39;49m\u001b[38;5;124;43mDigite su edad: \u001b[39;49m\u001b[38;5;124;43m'\u001b[39;49m\u001b[43m)\u001b[49m\u001b[43m)\u001b[49m\n\u001b[0;32m      2\u001b[0m \u001b[38;5;28;01mif\u001b[39;00m edad \u001b[38;5;241m<\u001b[39m \u001b[38;5;241m4\u001b[39m:\n\u001b[0;32m      3\u001b[0m     \u001b[38;5;28mprint\u001b[39m(\u001b[38;5;124m'\u001b[39m\u001b[38;5;124mPuede entrar gratis\u001b[39m\u001b[38;5;124m'\u001b[39m)\n",
      "\u001b[1;31mValueError\u001b[0m: invalid literal for int() with base 10: ''"
     ]
    }
   ],
   "source": [
    "edad = int(input('Digite su edad: '))\n",
    "if edad < 4:\n",
    "    print('Puede entrar gratis')\n",
    "elif edad <= 18:\n",
    "    print('Debe pagar 5€')\n",
    "else:\n",
    "    print('Debe pagar 10€')"
   ]
  }
 ],
 "metadata": {
  "colab": {
   "collapsed_sections": [],
   "name": "Ejercicios Estudiantes s1.ipynb",
   "provenance": []
  },
  "kernelspec": {
   "display_name": "Python 3 (ipykernel)",
   "language": "python",
   "name": "python3"
  },
  "language_info": {
   "codemirror_mode": {
    "name": "ipython",
    "version": 3
   },
   "file_extension": ".py",
   "mimetype": "text/x-python",
   "name": "python",
   "nbconvert_exporter": "python",
   "pygments_lexer": "ipython3",
   "version": "3.9.12"
  }
 },
 "nbformat": 4,
 "nbformat_minor": 1
}
