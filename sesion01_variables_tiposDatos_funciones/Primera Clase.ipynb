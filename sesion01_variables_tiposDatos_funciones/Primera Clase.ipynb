{
 "cells": [
  {
   "cell_type": "markdown",
   "id": "f9e26afe",
   "metadata": {},
   "source": [
    "### Análisis preliminar del dataset x"
   ]
  },
  {
   "cell_type": "markdown",
   "id": "b928b1e6",
   "metadata": {},
   "source": [
    "1. Observar datos atípicos"
   ]
  },
  {
   "cell_type": "markdown",
   "id": "cd20f61a",
   "metadata": {},
   "source": [
    "- Listas\n",
    "- Item 1\n",
    "- Item 2"
   ]
  },
  {
   "cell_type": "code",
   "execution_count": 3,
   "id": "ed2cf1ba",
   "metadata": {},
   "outputs": [
    {
     "name": "stdout",
     "output_type": "stream",
     "text": [
      "Hello world!\n"
     ]
    }
   ],
   "source": [
    "print('Hello world!')"
   ]
  },
  {
   "cell_type": "markdown",
   "id": "71a0bc9b",
   "metadata": {},
   "source": [
    "para eliminar una celda (esc + dd)"
   ]
  }
 ],
 "metadata": {
  "kernelspec": {
   "display_name": "Python 3 (ipykernel)",
   "language": "python",
   "name": "python3"
  },
  "language_info": {
   "codemirror_mode": {
    "name": "ipython",
    "version": 3
   },
   "file_extension": ".py",
   "mimetype": "text/x-python",
   "name": "python",
   "nbconvert_exporter": "python",
   "pygments_lexer": "ipython3",
   "version": "3.9.12"
  }
 },
 "nbformat": 4,
 "nbformat_minor": 5
}
