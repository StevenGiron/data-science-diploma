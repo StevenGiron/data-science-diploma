{
 "cells": [
  {
   "cell_type": "code",
   "execution_count": 1,
   "metadata": {},
   "outputs": [],
   "source": [
    "import numpy as np"
   ]
  },
  {
   "cell_type": "markdown",
   "metadata": {
    "id": "_JKvbcbQC2S7"
   },
   "source": [
    "1. Crear un arreglo con todos los numeros pares del 10 al 50"
   ]
  },
  {
   "cell_type": "code",
   "execution_count": 9,
   "metadata": {
    "id": "itUR4fs9CyrG"
   },
   "outputs": [
    {
     "name": "stdout",
     "output_type": "stream",
     "text": [
      "[10 12 14 16 18 20 22 24 26 28 30 32 34 36 38 40 42 44 46 48 50]\n"
     ]
    }
   ],
   "source": [
    "numero = np.arange(10, 51, 2)\n",
    "print(numero)"
   ]
  },
  {
   "cell_type": "markdown",
   "metadata": {
    "id": "brTa9bEcC6JA"
   },
   "source": [
    "2. Crear una matriz 3x3 con valores del 0 al 8"
   ]
  },
  {
   "cell_type": "code",
   "execution_count": 66,
   "metadata": {
    "id": "VQXmgo9iC_NR"
   },
   "outputs": [
    {
     "name": "stdout",
     "output_type": "stream",
     "text": [
      "[[0 1 2]\n",
      " [3 4 5]\n",
      " [6 7 8]]\n"
     ]
    }
   ],
   "source": [
    "a = np.array([(0, 1, 2), (3, 4, 5), (6, 7, 8)])\n",
    "print(a)"
   ]
  },
  {
   "cell_type": "code",
   "execution_count": 21,
   "metadata": {},
   "outputs": [
    {
     "name": "stdout",
     "output_type": "stream",
     "text": [
      "[[0 1 2]\n",
      " [3 4 5]\n",
      " [6 7 8]]\n"
     ]
    }
   ],
   "source": [
    "b = np.arange(9).reshape(3, 3)\n",
    "print(b)"
   ]
  },
  {
   "cell_type": "markdown",
   "metadata": {
    "id": "odQovRe5DGzh"
   },
   "source": [
    "3. Utilizar numpy para generar un arreglo de 25 numeros aleatorioas"
   ]
  },
  {
   "cell_type": "code",
   "execution_count": 67,
   "metadata": {
    "id": "0OiNh9r_DHb1"
   },
   "outputs": [
    {
     "name": "stdout",
     "output_type": "stream",
     "text": [
      "[41  0 13  6  4 29  3  5 23  2 13 44 41  8 20 30 17 11  5 38 37 42 33 49\n",
      "  3]\n"
     ]
    }
   ],
   "source": [
    "c = np.random.randint(50, size=25)\n",
    "print(c)"
   ]
  },
  {
   "cell_type": "markdown",
   "metadata": {
    "id": "tx7JCfAnDdHH"
   },
   "source": [
    "4. Crea un arreglo de una dimension e imprime el valor de la suma de todos sus elementos"
   ]
  },
  {
   "cell_type": "code",
   "execution_count": 58,
   "metadata": {
    "id": "Yonl_gj2DjLm"
   },
   "outputs": [
    {
     "name": "stdout",
     "output_type": "stream",
     "text": [
      "[3 0 2 7 8 2 6 7 2 6 0 3 6 0 9 1 4 8 5 8]\n",
      "87\n"
     ]
    }
   ],
   "source": [
    "d = np.random.randint(10, size = 20)\n",
    "print(d)\n",
    "print(d.sum())"
   ]
  },
  {
   "cell_type": "markdown",
   "metadata": {
    "id": "kqs3dUmpDuTX"
   },
   "source": [
    "5. Crea un arreglo de una dimension e imprime el valor de la media de todos sus elementos"
   ]
  },
  {
   "cell_type": "code",
   "execution_count": 69,
   "metadata": {
    "id": "cncJl0evDyi1"
   },
   "outputs": [
    {
     "name": "stdout",
     "output_type": "stream",
     "text": [
      "[ 6  2 11 14 13  2 15 13 10 12 18 10  2  8  5]\n",
      "9.4\n"
     ]
    }
   ],
   "source": [
    "e = np.random.randint(20, size = 15)\n",
    "print(e)\n",
    "print(round(e.mean(), 2))"
   ]
  },
  {
   "cell_type": "markdown",
   "metadata": {
    "id": "kNgnH9NUDzVw"
   },
   "source": []
  }
 ],
 "metadata": {
  "colab": {
   "name": "Ejercicios Numpy Estudiantes.ipynb",
   "provenance": []
  },
  "kernelspec": {
   "display_name": "Python 3 (ipykernel)",
   "language": "python",
   "name": "python3"
  },
  "language_info": {
   "codemirror_mode": {
    "name": "ipython",
    "version": 3
   },
   "file_extension": ".py",
   "mimetype": "text/x-python",
   "name": "python",
   "nbconvert_exporter": "python",
   "pygments_lexer": "ipython3",
   "version": "3.9.12"
  }
 },
 "nbformat": 4,
 "nbformat_minor": 1
}
