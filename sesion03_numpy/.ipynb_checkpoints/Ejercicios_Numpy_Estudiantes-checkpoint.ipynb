{
 "cells": [
  {
   "cell_type": "code",
   "execution_count": 1,
   "metadata": {},
   "outputs": [],
   "source": [
    "import numpy as np"
   ]
  },
  {
   "cell_type": "markdown",
   "metadata": {
    "id": "_JKvbcbQC2S7"
   },
   "source": [
    "1. Crear un arreglo con todos los numeros pares del 10 al 50"
   ]
  },
  {
   "cell_type": "code",
   "execution_count": null,
   "metadata": {
    "id": "itUR4fs9CyrG"
   },
   "outputs": [],
   "source": [
    "numero: "
   ]
  },
  {
   "cell_type": "markdown",
   "metadata": {
    "id": "brTa9bEcC6JA"
   },
   "source": [
    "2. Crear una matriz 3x3 con valores del 0 al 8"
   ]
  },
  {
   "cell_type": "code",
   "execution_count": null,
   "metadata": {
    "id": "VQXmgo9iC_NR"
   },
   "outputs": [],
   "source": []
  },
  {
   "cell_type": "markdown",
   "metadata": {
    "id": "odQovRe5DGzh"
   },
   "source": [
    "3. Utilizar numpy para generar un arreglo de 25 numeros aleatorioas"
   ]
  },
  {
   "cell_type": "code",
   "execution_count": null,
   "metadata": {
    "id": "0OiNh9r_DHb1"
   },
   "outputs": [],
   "source": []
  },
  {
   "cell_type": "markdown",
   "metadata": {
    "id": "tx7JCfAnDdHH"
   },
   "source": [
    "4. Crea un arreglo de una dimension e imprime el valor de la suma de todos sus elementos"
   ]
  },
  {
   "cell_type": "code",
   "execution_count": null,
   "metadata": {
    "id": "Yonl_gj2DjLm"
   },
   "outputs": [],
   "source": []
  },
  {
   "cell_type": "markdown",
   "metadata": {
    "id": "kqs3dUmpDuTX"
   },
   "source": [
    "5. Crea un arreglo de una dimension e imprime el valor de la media de todos sus elementos"
   ]
  },
  {
   "cell_type": "code",
   "execution_count": null,
   "metadata": {
    "id": "cncJl0evDyi1"
   },
   "outputs": [],
   "source": []
  },
  {
   "cell_type": "markdown",
   "metadata": {
    "id": "kNgnH9NUDzVw"
   },
   "source": []
  }
 ],
 "metadata": {
  "colab": {
   "name": "Ejercicios Numpy Estudiantes.ipynb",
   "provenance": []
  },
  "kernelspec": {
   "display_name": "Python 3 (ipykernel)",
   "language": "python",
   "name": "python3"
  },
  "language_info": {
   "codemirror_mode": {
    "name": "ipython",
    "version": 3
   },
   "file_extension": ".py",
   "mimetype": "text/x-python",
   "name": "python",
   "nbconvert_exporter": "python",
   "pygments_lexer": "ipython3",
   "version": "3.9.12"
  }
 },
 "nbformat": 4,
 "nbformat_minor": 1
}
