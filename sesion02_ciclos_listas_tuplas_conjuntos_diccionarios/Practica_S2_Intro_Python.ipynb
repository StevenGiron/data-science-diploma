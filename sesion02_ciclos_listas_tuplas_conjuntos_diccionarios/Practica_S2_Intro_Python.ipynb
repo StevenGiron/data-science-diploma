{
 "cells": [
  {
   "cell_type": "markdown",
   "metadata": {
    "id": "MCPbYH4-_8Sf"
   },
   "source": [
    "## Introducción a Python S2. \n",
    "Listas, Ciclos, Tuplas, Conjuntos y Diccionarios"
   ]
  },
  {
   "cell_type": "markdown",
   "metadata": {
    "id": "7hZH9YmgAO63"
   },
   "source": [
    "### Ciclos"
   ]
  },
  {
   "cell_type": "code",
   "execution_count": 3,
   "metadata": {
    "id": "FSbIfXCx_6S_"
   },
   "outputs": [
    {
     "name": "stdout",
     "output_type": "stream",
     "text": [
      "Python es lo mejor\n",
      "Python es lo mejor\n",
      "Python es lo mejor\n",
      "Python es lo mejor\n",
      "Python es lo mejor\n",
      "Python es lo mejor\n",
      "Python es lo mejor\n",
      "Python es lo mejor\n",
      "Python es lo mejor\n"
     ]
    }
   ],
   "source": [
    "i = 1\n",
    "while i<10:\n",
    "  print(\"Python es lo mejor\")\n",
    "  i = i + 1"
   ]
  },
  {
   "cell_type": "code",
   "execution_count": 4,
   "metadata": {
    "id": "fJfrepwDAzka"
   },
   "outputs": [
    {
     "name": "stdout",
     "output_type": "stream",
     "text": [
      "1\n",
      "2\n",
      "3\n"
     ]
    }
   ],
   "source": [
    "i=1\n",
    "while i<6:\n",
    "  print(i)\n",
    "  if i==3:\n",
    "    break\n",
    "  i+=1"
   ]
  },
  {
   "cell_type": "markdown",
   "metadata": {
    "id": "dfyjsATxBkv1"
   },
   "source": [
    "### Listas"
   ]
  },
  {
   "cell_type": "code",
   "execution_count": 5,
   "metadata": {
    "id": "kNtFB1RuBYdV"
   },
   "outputs": [],
   "source": [
    "cuadrados=[1,4,9,16,25]"
   ]
  },
  {
   "cell_type": "code",
   "execution_count": 6,
   "metadata": {
    "id": "rnAzqhyMBuBv"
   },
   "outputs": [
    {
     "name": "stdout",
     "output_type": "stream",
     "text": [
      "16\n",
      "1\n",
      "4\n"
     ]
    }
   ],
   "source": [
    "#acceder a los elementos\n",
    "print(cuadrados[3])\n",
    "print(cuadrados[0])\n",
    "print(cuadrados[1])"
   ]
  },
  {
   "cell_type": "code",
   "execution_count": 7,
   "metadata": {
    "id": "lEws7V1mB0me"
   },
   "outputs": [
    {
     "name": "stdout",
     "output_type": "stream",
     "text": [
      "5\n"
     ]
    }
   ],
   "source": [
    "# dimension de la lista\n",
    "print(len(cuadrados))"
   ]
  },
  {
   "cell_type": "code",
   "execution_count": 8,
   "metadata": {
    "id": "ta7LJC63B4om"
   },
   "outputs": [
    {
     "name": "stdout",
     "output_type": "stream",
     "text": [
      "[1, 4, 9]\n"
     ]
    }
   ],
   "source": [
    "#Slicing de la lista\n",
    "print(cuadrados[0:3])"
   ]
  },
  {
   "cell_type": "code",
   "execution_count": 9,
   "metadata": {
    "id": "ldZgJVVhCE0f"
   },
   "outputs": [
    {
     "name": "stdout",
     "output_type": "stream",
     "text": [
      "[1, 4, 9]\n",
      "[4, 9, 16, 25]\n",
      "[1, 4, 9, 16, 25]\n"
     ]
    }
   ],
   "source": [
    "# no es necesario ni el inicio ni el final\n",
    "print(cuadrados[:3])\n",
    "print(cuadrados[1:])\n",
    "print(cuadrados[:])"
   ]
  },
  {
   "cell_type": "code",
   "execution_count": 10,
   "metadata": {
    "id": "AuebwavZCWM2"
   },
   "outputs": [
    {
     "name": "stdout",
     "output_type": "stream",
     "text": [
      "[1, 4, 9, 16, 25, 36, 49, 63]\n"
     ]
    }
   ],
   "source": [
    "#concatenar\n",
    "cuadrados = cuadrados + [36,49,63]\n",
    "print(cuadrados)"
   ]
  },
  {
   "cell_type": "code",
   "execution_count": 11,
   "metadata": {
    "id": "UND_MFu_Ckwy"
   },
   "outputs": [
    {
     "name": "stdout",
     "output_type": "stream",
     "text": [
      "[1, 4, 9, 16, 25, 36, 49, 64]\n"
     ]
    }
   ],
   "source": [
    "#modificar valores de cierta posicion\n",
    "cuadrados[7]=64\n",
    "print(cuadrados)"
   ]
  },
  {
   "cell_type": "code",
   "execution_count": 12,
   "metadata": {
    "id": "s6kOcWxUCxJ7"
   },
   "outputs": [
    {
     "name": "stdout",
     "output_type": "stream",
     "text": [
      "[1, 4, 9, 16, 25, 36, 49, 64, 81, 100]\n"
     ]
    }
   ],
   "source": [
    "#tambien se pueden concatenar elmentos con la funcion append\n",
    "cuadrados.append(81)\n",
    "cuadrados.append(100)\n",
    "print(cuadrados)"
   ]
  },
  {
   "cell_type": "code",
   "execution_count": 13,
   "metadata": {
    "id": "3H8ui2NiC_-G"
   },
   "outputs": [
    {
     "name": "stdout",
     "output_type": "stream",
     "text": [
      "True\n",
      "False\n"
     ]
    }
   ],
   "source": [
    "#El operador “in” de python para evaluar la membresía de un elemento de una lista.\n",
    "print(4 in cuadrados)\n",
    "print(0 in cuadrados)"
   ]
  },
  {
   "cell_type": "code",
   "execution_count": 14,
   "metadata": {
    "id": "8FlMk-E6DOOf"
   },
   "outputs": [
    {
     "name": "stdout",
     "output_type": "stream",
     "text": [
      "[[0, 1, 2, 3, 4], [5, 6, 7, 8, 9]]\n"
     ]
    }
   ],
   "source": [
    "#También es posible anidar listas\n",
    "a=[0,1,2,3,4]\n",
    "b=[5,6,7,8,9]\n",
    "numeros=[a,b]\n",
    "print(numeros)"
   ]
  },
  {
   "cell_type": "markdown",
   "metadata": {
    "id": "LtdGZdErD0FS"
   },
   "source": [
    "### El Ciclo For"
   ]
  },
  {
   "cell_type": "code",
   "execution_count": 15,
   "metadata": {
    "id": "DZbLbIC_DsZc"
   },
   "outputs": [],
   "source": [
    "animales=[\"Gato\",\"Perro\",\"Loro\"]"
   ]
  },
  {
   "cell_type": "code",
   "execution_count": 16,
   "metadata": {
    "id": "4g8r7AOND9z7"
   },
   "outputs": [
    {
     "name": "stdout",
     "output_type": "stream",
     "text": [
      "Gato 4\n",
      "Perro 5\n",
      "Loro 4\n"
     ]
    }
   ],
   "source": [
    "for animal in animales:\n",
    "  print(animal, len(animal))"
   ]
  },
  {
   "cell_type": "code",
   "execution_count": 17,
   "metadata": {
    "id": "h-OzMdmcEF5o"
   },
   "outputs": [
    {
     "name": "stdout",
     "output_type": "stream",
     "text": [
      "0\n",
      "1\n",
      "2\n",
      "3\n",
      "4\n",
      "5\n"
     ]
    }
   ],
   "source": [
    "#Generar progresiones aritmeticas\n",
    "for i in range(6):\n",
    "  print(i)"
   ]
  },
  {
   "cell_type": "code",
   "execution_count": 18,
   "metadata": {
    "id": "fQBUkpz1ES-W"
   },
   "outputs": [
    {
     "name": "stdout",
     "output_type": "stream",
     "text": [
      "5\n",
      "6\n",
      "7\n",
      "8\n",
      "9\n"
     ]
    }
   ],
   "source": [
    "for i in range(5,10):\n",
    "  print(i)"
   ]
  },
  {
   "cell_type": "code",
   "execution_count": 19,
   "metadata": {
    "id": "8Et5slFBEW8A"
   },
   "outputs": [
    {
     "name": "stdout",
     "output_type": "stream",
     "text": [
      "[2, 4, 6, 8, 10]\n"
     ]
    }
   ],
   "source": [
    "print(list(range(2,12,2)))"
   ]
  },
  {
   "cell_type": "markdown",
   "metadata": {
    "id": "J7HLRvwWEvX3"
   },
   "source": [
    "[Mas sobre range](https://www.w3schools.com/python/ref_func_range.asp)"
   ]
  },
  {
   "cell_type": "markdown",
   "metadata": {
    "id": "dk04OTYtFFiw"
   },
   "source": [
    "### Tuplas"
   ]
  },
  {
   "cell_type": "code",
   "execution_count": 20,
   "metadata": {
    "id": "T8B0P44KFG5P"
   },
   "outputs": [
    {
     "name": "stdout",
     "output_type": "stream",
     "text": [
      "('Ana', 'Paz', 35)\n"
     ]
    }
   ],
   "source": [
    "#incializar\n",
    "persona=(\"Ana\",\"Paz\",35)\n",
    "print(persona)"
   ]
  },
  {
   "cell_type": "code",
   "execution_count": 21,
   "metadata": {
    "id": "QukN3__eFNZV"
   },
   "outputs": [
    {
     "name": "stdout",
     "output_type": "stream",
     "text": [
      "(3, 4, 23)\n"
     ]
    }
   ],
   "source": [
    "#tambien sin parentesis\n",
    "tupla=3,4,23\n",
    "print(tupla)"
   ]
  },
  {
   "cell_type": "code",
   "execution_count": 22,
   "metadata": {
    "id": "UglCyK7jFYZQ"
   },
   "outputs": [
    {
     "name": "stdout",
     "output_type": "stream",
     "text": [
      "(3, 4, 23, 87, 45)\n"
     ]
    }
   ],
   "source": [
    "#concatenacion \n",
    "tupla=tupla+(87,45)\n",
    "print(tupla)"
   ]
  },
  {
   "cell_type": "code",
   "execution_count": 23,
   "metadata": {
    "id": "pFP9BqmcFheP"
   },
   "outputs": [
    {
     "name": "stdout",
     "output_type": "stream",
     "text": [
      "(('Luis', 'padre', 'amarillo'), ('Felipe', 'hijo', True), ('Doris', 'prima', [5, 6, 7, 8]))\n"
     ]
    }
   ],
   "source": [
    "#Los elementos de una tupla pueden ser otras tuplas o valores de cualquier otro tipo de dato.\n",
    "familia = ((\"Luis\",\"padre\",\"amarillo\"),\n",
    "           (\"Felipe\",\"hijo\",True),\n",
    "           (\"Doris\",\"prima\",[5,6,7,8]) )\n",
    "print(familia)"
   ]
  },
  {
   "cell_type": "code",
   "execution_count": 24,
   "metadata": {
    "id": "3-AFxs56GBov"
   },
   "outputs": [
    {
     "data": {
      "text/plain": [
       "tuple"
      ]
     },
     "execution_count": 24,
     "metadata": {},
     "output_type": "execute_result"
    }
   ],
   "source": [
    "#verificar tipo \n",
    "type(familia)"
   ]
  },
  {
   "cell_type": "code",
   "execution_count": 25,
   "metadata": {
    "id": "wHjAY1d3GDkE"
   },
   "outputs": [
    {
     "name": "stdout",
     "output_type": "stream",
     "text": [
      "Paz\n",
      "('Doris', 'prima', [5, 6, 7, 8])\n"
     ]
    }
   ],
   "source": [
    "#Puedes acceder a las posiciones de una\n",
    "#tupla con corchetes igual que las listas y\n",
    "#cadenas de texto\n",
    "\n",
    "print(persona[1]) \n",
    "print(familia[2])"
   ]
  },
  {
   "cell_type": "code",
   "execution_count": 26,
   "metadata": {
    "id": "5CHMcERqGPX-"
   },
   "outputs": [
    {
     "name": "stdout",
     "output_type": "stream",
     "text": [
      "([150, 320, 474], [42, 86])\n"
     ]
    }
   ],
   "source": [
    "#Las posiciones en una tupla no se\n",
    "#pueden modificar, pero si las\n",
    "#posiciones de un elemento mutable\n",
    "#(como las listas) al interior de una\n",
    "#tupla\n",
    "gastos = ([150,320,474],[42,86])\n",
    "print(gastos)"
   ]
  },
  {
   "cell_type": "code",
   "execution_count": 27,
   "metadata": {
    "id": "pQGqXgaUGdkJ"
   },
   "outputs": [
    {
     "data": {
      "text/plain": [
       "42"
      ]
     },
     "execution_count": 27,
     "metadata": {},
     "output_type": "execute_result"
    }
   ],
   "source": [
    "gastos[1][0]"
   ]
  },
  {
   "cell_type": "code",
   "execution_count": 28,
   "metadata": {
    "id": "HKQ3rb4RGfkt"
   },
   "outputs": [],
   "source": [
    "gastos[1][0]= 56"
   ]
  },
  {
   "cell_type": "code",
   "execution_count": 29,
   "metadata": {
    "id": "A3wbP8GMGiKr"
   },
   "outputs": [
    {
     "name": "stdout",
     "output_type": "stream",
     "text": [
      "([150, 320, 474], [56, 86])\n"
     ]
    }
   ],
   "source": [
    "print(gastos)"
   ]
  },
  {
   "cell_type": "code",
   "execution_count": 30,
   "metadata": {
    "id": "W2c9imi8GjvV"
   },
   "outputs": [
    {
     "name": "stdout",
     "output_type": "stream",
     "text": [
      "(1, 2, 3, 4)\n"
     ]
    }
   ],
   "source": [
    "#packing y unpacking \n",
    "x = 1,2,3,4 \n",
    "print(x)"
   ]
  },
  {
   "cell_type": "code",
   "execution_count": 31,
   "metadata": {
    "id": "b71Q3tsUGr57"
   },
   "outputs": [],
   "source": [
    "a,b,c,d = x"
   ]
  },
  {
   "cell_type": "code",
   "execution_count": 32,
   "metadata": {
    "id": "IJdaP63fGzhP"
   },
   "outputs": [
    {
     "name": "stdout",
     "output_type": "stream",
     "text": [
      "1\n",
      "2\n",
      "3\n",
      "4\n"
     ]
    }
   ],
   "source": [
    "print(a)\n",
    "print(b)\n",
    "print(c)\n",
    "print(d)"
   ]
  },
  {
   "cell_type": "markdown",
   "metadata": {
    "id": "LQW7kQL0HCjG"
   },
   "source": [
    "### Conjuntos (Set)\n"
   ]
  },
  {
   "cell_type": "code",
   "execution_count": 33,
   "metadata": {
    "id": "T7UZlVbKG3nb"
   },
   "outputs": [
    {
     "name": "stdout",
     "output_type": "stream",
     "text": [
      "{'Limón', 'Naranja'}\n"
     ]
    }
   ],
   "source": [
    "#incializar conjunto con elementos no repetido\n",
    "cesta = {'Limón','Naranja','Limón'}\n",
    "print(cesta)"
   ]
  },
  {
   "cell_type": "code",
   "execution_count": 34,
   "metadata": {
    "id": "us_MLFZKHS6f"
   },
   "outputs": [
    {
     "name": "stdout",
     "output_type": "stream",
     "text": [
      "True\n"
     ]
    }
   ],
   "source": [
    "#verificar existencia\n",
    "print ('Naranja' in cesta)"
   ]
  },
  {
   "cell_type": "code",
   "execution_count": 35,
   "metadata": {
    "id": "wBmvJxbxHcC8"
   },
   "outputs": [
    {
     "name": "stdout",
     "output_type": "stream",
     "text": [
      "{'c', 'f', 'e', 'g', 'd', 'b', 'a'}\n",
      "{0, 1, 2, 3, 4, 5, 6, 7, 8, 9, 10, 11, 12, 13, 14, 15, 16, 17, 18, 19}\n"
     ]
    }
   ],
   "source": [
    "#Función set también es posible con\n",
    "#algunos tipos (listas, cadenas, tuplas)\n",
    "codigos = set(\"abcdefg\")\n",
    "codigos2 = set(range(20))\n",
    "\n",
    "print(codigos)\n",
    "print(codigos2)"
   ]
  },
  {
   "cell_type": "code",
   "execution_count": 50,
   "metadata": {
    "id": "jRY9-1YvH6HR"
   },
   "outputs": [
    {
     "name": "stdout",
     "output_type": "stream",
     "text": [
      "{'i', 'c', 'h', 'f', 'e', 'g', 'd', 'b', 'a'}\n"
     ]
    }
   ],
   "source": [
    "#Podemos utilizar las operaciones\n",
    "#clásicas de conjuntos\n",
    "a = set(\"abcdefghi\")\n",
    "b = set(\"acegijklm\")\n",
    "print(a)"
   ]
  },
  {
   "cell_type": "code",
   "execution_count": 37,
   "metadata": {
    "id": "1MDeKBDgIR0B"
   },
   "outputs": [
    {
     "name": "stdout",
     "output_type": "stream",
     "text": [
      "i\n",
      "c\n",
      "h\n",
      "f\n",
      "e\n",
      "g\n",
      "d\n",
      "b\n",
      "a\n"
     ]
    }
   ],
   "source": [
    "#Iterar sobre los elementos de un conjunto\n",
    "for elem in a:\n",
    "  print(elem)"
   ]
  },
  {
   "cell_type": "markdown",
   "metadata": {
    "id": "iXWPVjCVIvFV"
   },
   "source": [
    "### Diccionarios"
   ]
  },
  {
   "cell_type": "code",
   "execution_count": 38,
   "metadata": {
    "id": "I1yXbkeoIaEO"
   },
   "outputs": [
    {
     "name": "stdout",
     "output_type": "stream",
     "text": [
      "{'color': 'rojo', 'area': 500}\n",
      "rojo\n",
      "['color', 'area']\n"
     ]
    }
   ],
   "source": [
    "casa = {'color':'rojo','area':500}\n",
    "print(casa)\n",
    "print(casa['color'])\n",
    "print(list(casa))"
   ]
  },
  {
   "cell_type": "code",
   "execution_count": 39,
   "metadata": {
    "id": "kWdwLjdbI-KR"
   },
   "outputs": [
    {
     "name": "stdout",
     "output_type": "stream",
     "text": [
      "True\n",
      "False\n"
     ]
    }
   ],
   "source": [
    "print('color' in casa)\n",
    "print('area' not in casa)"
   ]
  },
  {
   "cell_type": "code",
   "execution_count": 40,
   "metadata": {
    "id": "6hhCb0_nJMVO"
   },
   "outputs": [],
   "source": [
    "producto = dict([('nombre','silla'),\n",
    "('precio',24500.0),('cantidad',12)])"
   ]
  },
  {
   "cell_type": "code",
   "execution_count": 41,
   "metadata": {
    "id": "V-5-xMocJcEv"
   },
   "outputs": [
    {
     "name": "stdout",
     "output_type": "stream",
     "text": [
      "{'nombre': 'silla', 'precio': 24500.0, 'cantidad': 12}\n"
     ]
    }
   ],
   "source": [
    "print(producto)"
   ]
  },
  {
   "cell_type": "code",
   "execution_count": 42,
   "metadata": {
    "id": "JDwPvIh4JdkE"
   },
   "outputs": [
    {
     "name": "stdout",
     "output_type": "stream",
     "text": [
      "{'origen': 'Cali', 'destino': 'Bogotá', 'distancia': 350}\n"
     ]
    }
   ],
   "source": [
    "vuelo =dict (origen='Cali', destino='Bogotá', distancia=350)\n",
    "print(vuelo)"
   ]
  },
  {
   "cell_type": "code",
   "execution_count": 43,
   "metadata": {
    "id": "56C5blU9KBEH"
   },
   "outputs": [],
   "source": [
    "salud = {'peso':62, 'altura':1.72,'edad':28}"
   ]
  },
  {
   "cell_type": "code",
   "execution_count": 44,
   "metadata": {
    "id": "hagTUspkJrie"
   },
   "outputs": [
    {
     "name": "stdout",
     "output_type": "stream",
     "text": [
      "peso 62\n",
      "altura 1.72\n",
      "edad 28\n"
     ]
    }
   ],
   "source": [
    "for clave, valor in salud.items():\n",
    "  print(clave, valor)"
   ]
  },
  {
   "cell_type": "code",
   "execution_count": 45,
   "metadata": {
    "id": "MDhF80heKjo2"
   },
   "outputs": [
    {
     "name": "stdout",
     "output_type": "stream",
     "text": [
      "peso 62\n",
      "altura 1.72\n",
      "edad 28\n"
     ]
    }
   ],
   "source": [
    "for clave in salud:\n",
    "  print(clave, salud[clave])"
   ]
  },
  {
   "cell_type": "code",
   "execution_count": null,
   "metadata": {
    "id": "FwLMqfQSKxBO"
   },
   "outputs": [],
   "source": []
  }
 ],
 "metadata": {
  "colab": {
   "collapsed_sections": [],
   "name": "Practica S2 Intro Python.ipynb",
   "provenance": []
  },
  "kernelspec": {
   "display_name": "Python 3 (ipykernel)",
   "language": "python",
   "name": "python3"
  },
  "language_info": {
   "codemirror_mode": {
    "name": "ipython",
    "version": 3
   },
   "file_extension": ".py",
   "mimetype": "text/x-python",
   "name": "python",
   "nbconvert_exporter": "python",
   "pygments_lexer": "ipython3",
   "version": "3.9.12"
  }
 },
 "nbformat": 4,
 "nbformat_minor": 1
}
